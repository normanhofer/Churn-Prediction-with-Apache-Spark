{
 "cells": [
  {
   "cell_type": "markdown",
   "metadata": {},
   "source": [
    "# Sparkify Project Workspace\n",
    "This workspace contains a tiny subset (128MB) of the full dataset available (12GB). Feel free to use this workspace to build your project, or to explore a smaller subset with Spark before deploying your cluster on the cloud. Instructions for setting up your Spark cluster is included in the last lesson of the Extracurricular Spark Course content.\n",
    "\n",
    "You can follow the steps below to guide your data analysis and model building portion of this project."
   ]
  },
  {
   "cell_type": "code",
   "execution_count": 1,
   "metadata": {},
   "outputs": [],
   "source": [
    "# import libraries\n",
    "import pyspark\n",
    "from pyspark import SparkConf\n",
    "from pyspark.sql import SparkSession\n",
    "\n",
    "from pyspark.sql.window import Window\n",
    "from pyspark.sql.functions import udf, isnan, min, max, sum, count, desc, expr, avg\n",
    "from pyspark.sql.types import IntegerType, LongType\n",
    "\n",
    "from pyspark.ml.feature import StandardScaler, VectorAssembler, MinMaxScaler\n",
    "from pyspark.ml.evaluation import MulticlassClassificationEvaluator\n",
    "from pyspark.ml.tuning import CrossValidator, ParamGridBuilder, CrossValidatorModel\n",
    "from pyspark.ml import Pipeline\n",
    "from pyspark.ml.classification import DecisionTreeClassifier, RandomForestClassifier, \\\n",
    "LogisticRegression, GBTClassifier, LogisticRegressionModel, GBTClassificationModel, \\\n",
    "RandomForestClassificationModel, DecisionTreeModel\n",
    "\n",
    "import matplotlib.pyplot as plt\n",
    "import seaborn as sns\n",
    "import datetime\n",
    "import numpy as np\n",
    "import pandas as pd"
   ]
  },
  {
   "cell_type": "code",
   "execution_count": 2,
   "metadata": {},
   "outputs": [],
   "source": [
    "# Set Configurations for Spark session\n",
    "config = pyspark.SparkConf().setAll([('spark.executor.memory', '16g'), ('spark.executor.cores', '3'), ('spark.cores.max', '3'), ('spark.driver.memory','16g')])"
   ]
  },
  {
   "cell_type": "code",
   "execution_count": 3,
   "metadata": {},
   "outputs": [],
   "source": [
    "# create a Spark session\n",
    "spark = SparkSession \\\n",
    "    .builder \\\n",
    "    .config(conf=config)\\\n",
    "    .appName('Churn Analysis with Spark') \\\n",
    "    .getOrCreate()"
   ]
  },
  {
   "cell_type": "code",
   "execution_count": 4,
   "metadata": {},
   "outputs": [
    {
     "data": {
      "text/plain": [
       "[('spark.driver.host', 'd7c50d1d5820'),\n",
       " ('spark.executor.id', 'driver'),\n",
       " ('spark.driver.memory', '16g'),\n",
       " ('spark.cores.max', '3'),\n",
       " ('spark.executor.memory', '16g'),\n",
       " ('spark.app.id', 'local-1561905727558'),\n",
       " ('spark.rdd.compress', 'True'),\n",
       " ('spark.driver.port', '44137'),\n",
       " ('spark.serializer.objectStreamReset', '100'),\n",
       " ('spark.master', 'local[*]'),\n",
       " ('spark.executor.cores', '3'),\n",
       " ('spark.submit.deployMode', 'client'),\n",
       " ('spark.app.name', 'Churn Analysis with Spark'),\n",
       " ('spark.ui.showConsoleProgress', 'true')]"
      ]
     },
     "execution_count": 4,
     "metadata": {},
     "output_type": "execute_result"
    }
   ],
   "source": [
    "# Check, if Spark session was setup correctly\n",
    "spark.sparkContext.getConf().getAll()"
   ]
  },
  {
   "cell_type": "code",
   "execution_count": 5,
   "metadata": {},
   "outputs": [
    {
     "data": {
      "text/html": [
       "\n",
       "            <div>\n",
       "                <p><b>SparkSession - in-memory</b></p>\n",
       "                \n",
       "        <div>\n",
       "            <p><b>SparkContext</b></p>\n",
       "\n",
       "            <p><a href=\"http://d7c50d1d5820:4040\">Spark UI</a></p>\n",
       "\n",
       "            <dl>\n",
       "              <dt>Version</dt>\n",
       "                <dd><code>v2.4.3</code></dd>\n",
       "              <dt>Master</dt>\n",
       "                <dd><code>local[*]</code></dd>\n",
       "              <dt>AppName</dt>\n",
       "                <dd><code>Churn Analysis with Spark</code></dd>\n",
       "            </dl>\n",
       "        </div>\n",
       "        \n",
       "            </div>\n",
       "        "
      ],
      "text/plain": [
       "<pyspark.sql.session.SparkSession at 0x7f6a6734e668>"
      ]
     },
     "execution_count": 5,
     "metadata": {},
     "output_type": "execute_result"
    }
   ],
   "source": [
    "spark"
   ]
  },
  {
   "cell_type": "markdown",
   "metadata": {},
   "source": [
    "# Load and Clean Dataset\n",
    "In this workspace, the mini-dataset file is `mini_sparkify_event_data.json`. Load and clean the dataset, checking for invalid or missing data - for example, records without userids or sessionids. "
   ]
  },
  {
   "cell_type": "code",
   "execution_count": 6,
   "metadata": {},
   "outputs": [],
   "source": [
    "# Load dataset\n",
    "df = spark.read.json('mini_sparkify_event_data.json')"
   ]
  },
  {
   "cell_type": "code",
   "execution_count": 7,
   "metadata": {},
   "outputs": [
    {
     "name": "stdout",
     "output_type": "stream",
     "text": [
      "root\n",
      " |-- artist: string (nullable = true)\n",
      " |-- auth: string (nullable = true)\n",
      " |-- firstName: string (nullable = true)\n",
      " |-- gender: string (nullable = true)\n",
      " |-- itemInSession: long (nullable = true)\n",
      " |-- lastName: string (nullable = true)\n",
      " |-- length: double (nullable = true)\n",
      " |-- level: string (nullable = true)\n",
      " |-- location: string (nullable = true)\n",
      " |-- method: string (nullable = true)\n",
      " |-- page: string (nullable = true)\n",
      " |-- registration: long (nullable = true)\n",
      " |-- sessionId: long (nullable = true)\n",
      " |-- song: string (nullable = true)\n",
      " |-- status: long (nullable = true)\n",
      " |-- ts: long (nullable = true)\n",
      " |-- userAgent: string (nullable = true)\n",
      " |-- userId: string (nullable = true)\n",
      "\n"
     ]
    }
   ],
   "source": [
    "# Show all columns and data types\n",
    "df.printSchema()"
   ]
  },
  {
   "cell_type": "code",
   "execution_count": 8,
   "metadata": {},
   "outputs": [
    {
     "data": {
      "text/plain": [
       "[Row(artist='Martha Tilston', auth='Logged In', firstName='Colin', gender='M', itemInSession=50, lastName='Freeman', length=277.89016, level='paid', location='Bakersfield, CA', method='PUT', page='NextSong', registration=1538173362000, sessionId=29, song='Rockpools', status=200, ts=1538352117000, userAgent='Mozilla/5.0 (Windows NT 6.1; WOW64; rv:31.0) Gecko/20100101 Firefox/31.0', userId='30'),\n",
       " Row(artist='Five Iron Frenzy', auth='Logged In', firstName='Micah', gender='M', itemInSession=79, lastName='Long', length=236.09424, level='free', location='Boston-Cambridge-Newton, MA-NH', method='PUT', page='NextSong', registration=1538331630000, sessionId=8, song='Canada', status=200, ts=1538352180000, userAgent='\"Mozilla/5.0 (Windows NT 6.1; WOW64) AppleWebKit/537.36 (KHTML, like Gecko) Chrome/37.0.2062.103 Safari/537.36\"', userId='9'),\n",
       " Row(artist='Adam Lambert', auth='Logged In', firstName='Colin', gender='M', itemInSession=51, lastName='Freeman', length=282.8273, level='paid', location='Bakersfield, CA', method='PUT', page='NextSong', registration=1538173362000, sessionId=29, song='Time For Miracles', status=200, ts=1538352394000, userAgent='Mozilla/5.0 (Windows NT 6.1; WOW64; rv:31.0) Gecko/20100101 Firefox/31.0', userId='30'),\n",
       " Row(artist='Enigma', auth='Logged In', firstName='Micah', gender='M', itemInSession=80, lastName='Long', length=262.71302, level='free', location='Boston-Cambridge-Newton, MA-NH', method='PUT', page='NextSong', registration=1538331630000, sessionId=8, song='Knocking On Forbidden Doors', status=200, ts=1538352416000, userAgent='\"Mozilla/5.0 (Windows NT 6.1; WOW64) AppleWebKit/537.36 (KHTML, like Gecko) Chrome/37.0.2062.103 Safari/537.36\"', userId='9'),\n",
       " Row(artist='Daft Punk', auth='Logged In', firstName='Colin', gender='M', itemInSession=52, lastName='Freeman', length=223.60771, level='paid', location='Bakersfield, CA', method='PUT', page='NextSong', registration=1538173362000, sessionId=29, song='Harder Better Faster Stronger', status=200, ts=1538352676000, userAgent='Mozilla/5.0 (Windows NT 6.1; WOW64; rv:31.0) Gecko/20100101 Firefox/31.0', userId='30')]"
      ]
     },
     "execution_count": 8,
     "metadata": {},
     "output_type": "execute_result"
    }
   ],
   "source": [
    "# Show first 5 rows\n",
    "df.head(5)"
   ]
  },
  {
   "cell_type": "code",
   "execution_count": 9,
   "metadata": {},
   "outputs": [
    {
     "name": "stdout",
     "output_type": "stream",
     "text": [
      "+-------+------------------+----------+---------+------+------------------+--------+-----------------+------+-----------------+------+-------+--------------------+-----------------+--------------------+------------------+--------------------+--------------------+-----------------+\n",
      "|summary|            artist|      auth|firstName|gender|     itemInSession|lastName|           length| level|         location|method|   page|        registration|        sessionId|                song|            status|                  ts|           userAgent|           userId|\n",
      "+-------+------------------+----------+---------+------+------------------+--------+-----------------+------+-----------------+------+-------+--------------------+-----------------+--------------------+------------------+--------------------+--------------------+-----------------+\n",
      "|  count|            228108|    286500|   278154|278154|            286500|  278154|           228108|286500|           278154|286500| 286500|              278154|           286500|              228108|            286500|              286500|              278154|           286500|\n",
      "|   mean| 551.0852017937219|      null|     null|  null|114.41421291448516|    null|249.1171819778458|  null|             null|  null|   null|1.535358834084427...|1041.526554973822|            Infinity|210.05459685863875|1.540956889810483...|                null|59682.02278593872|\n",
      "| stddev|1217.7693079161374|      null|     null|  null|129.76726201140994|    null|99.23517921058361|  null|             null|  null|   null| 3.291321616327586E9|726.7762634630741|                 NaN| 31.50507848842214|1.5075439608226302E9|                null|109091.9499991047|\n",
      "|    min|               !!!| Cancelled| Adelaida|     F|                 0|   Adams|          0.78322|  free|       Albany, OR|   GET|  About|       1521380675000|                1|\u001c",
      "ÃÂg ÃÂtti Gr...|               200|       1538352117000|\"Mozilla/5.0 (Mac...|                 |\n",
      "|    max| ÃÂlafur Arnalds|Logged Out|   Zyonna|     M|              1321|  Wright|       3024.66567|  paid|Winston-Salem, NC|   PUT|Upgrade|       1543247354000|             2474|ÃÂau hafa slopp...|               404|       1543799476000|Mozilla/5.0 (comp...|               99|\n",
      "+-------+------------------+----------+---------+------+------------------+--------+-----------------+------+-----------------+------+-------+--------------------+-----------------+--------------------+------------------+--------------------+--------------------+-----------------+\n",
      "\n"
     ]
    }
   ],
   "source": [
    "# Schow summary statistics\n",
    "df.describe().show()"
   ]
  },
  {
   "cell_type": "code",
   "execution_count": 10,
   "metadata": {},
   "outputs": [
    {
     "data": {
      "text/plain": [
       "286500"
      ]
     },
     "execution_count": 10,
     "metadata": {},
     "output_type": "execute_result"
    }
   ],
   "source": [
    "# Show number of rows\n",
    "df.count()"
   ]
  },
  {
   "cell_type": "code",
   "execution_count": 11,
   "metadata": {},
   "outputs": [
    {
     "name": "stdout",
     "output_type": "stream",
     "text": [
      "artist: 58392 missing values: 0 Nan, 58392 Null, 0 Empty.\n",
      "firstName: 8346 missing values: 0 Nan, 8346 Null, 0 Empty.\n",
      "gender: 8346 missing values: 0 Nan, 8346 Null, 0 Empty.\n",
      "lastName: 8346 missing values: 0 Nan, 8346 Null, 0 Empty.\n",
      "length: 58392 missing values: 0 Nan, 58392 Null, 0 Empty.\n",
      "location: 8346 missing values: 0 Nan, 8346 Null, 0 Empty.\n",
      "registration: 8346 missing values: 0 Nan, 8346 Null, 0 Empty.\n",
      "song: 58392 missing values: 0 Nan, 58392 Null, 0 Empty.\n",
      "userAgent: 8346 missing values: 0 Nan, 8346 Null, 0 Empty.\n",
      "userId: 8346 missing values: 0 Nan, 0 Null, 8346 Empty.\n"
     ]
    }
   ],
   "source": [
    "# Check for missing values\n",
    "for column in df.columns:\n",
    "    nan_missings = df.filter(isnan(df[column])).count()\n",
    "    null_missings =  df.filter(df[column].isNull()).count()\n",
    "    empty_missings = df.filter(df[column] == '').count()\n",
    "    total_missings = nan_missings + null_missings + empty_missings\n",
    "    \n",
    "    # If column has missing values, print details\n",
    "    if total_missings > 0:\n",
    "        print(f'{column}: {total_missings} missing values: {nan_missings} Nan, {null_missings} Null, {empty_missings} Empty.')"
   ]
  },
  {
   "cell_type": "code",
   "execution_count": 12,
   "metadata": {},
   "outputs": [
    {
     "data": {
      "text/plain": [
       "278154"
      ]
     },
     "execution_count": 12,
     "metadata": {},
     "output_type": "execute_result"
    }
   ],
   "source": [
    "# Drop rows with missing user id\n",
    "df = df.where(df.userId != '')\n",
    "df.count() # Show number of rows after removal of rows with missing ids"
   ]
  },
  {
   "cell_type": "code",
   "execution_count": 13,
   "metadata": {},
   "outputs": [
    {
     "data": {
      "text/plain": [
       "278154"
      ]
     },
     "execution_count": 13,
     "metadata": {},
     "output_type": "execute_result"
    }
   ],
   "source": [
    "# Drop duplicates\n",
    "df = df.dropDuplicates()\n",
    "df.count() # Show number of rows after removal of dupllicates (none!)"
   ]
  },
  {
   "cell_type": "markdown",
   "metadata": {},
   "source": [
    "# Exploratory Data Analysis\n",
    "When you're working with the full dataset, perform EDA by loading a small subset of the data and doing basic manipulations within Spark. In this workspace, you are already provided a small subset of data you can explore.\n",
    "\n",
    "### Define Churn\n",
    "\n",
    "Once you've done some preliminary analysis, create a column `Churn` to use as the label for your model. I suggest using the `Cancellation Confirmation` events to define your churn, which happen for both paid and free users. As a bonus task, you can also look into the `Downgrade` events.\n",
    "\n",
    "### Explore Data\n",
    "Once you've defined churn, perform some exploratory data analysis to observe the behavior for users who stayed vs users who churned. You can start by exploring aggregates on these two groups of users, observing how much of a specific action they experienced per a certain time unit or number of songs played."
   ]
  },
  {
   "cell_type": "code",
   "execution_count": 14,
   "metadata": {},
   "outputs": [
    {
     "name": "stdout",
     "output_type": "stream",
     "text": [
      "Artist\n",
      "Unique Values: 17656\n",
      "+--------------------+\n",
      "|              artist|\n",
      "+--------------------+\n",
      "|                null|\n",
      "|                 !!!|\n",
      "|        & And Oceans|\n",
      "|'N Sync/Phil Collins|\n",
      "|        'Til Tuesday|\n",
      "+--------------------+\n",
      "only showing top 5 rows\n",
      "\n",
      "Auth\n",
      "Unique Values: 2\n",
      "+---------+\n",
      "|     auth|\n",
      "+---------+\n",
      "|Cancelled|\n",
      "|Logged In|\n",
      "+---------+\n",
      "\n",
      "Firstname\n",
      "Unique Values: 189\n",
      "+---------+\n",
      "|firstName|\n",
      "+---------+\n",
      "| Adelaida|\n",
      "|   Adrian|\n",
      "|  Adriana|\n",
      "|   Adriel|\n",
      "|  Ainsley|\n",
      "+---------+\n",
      "only showing top 5 rows\n",
      "\n",
      "Gender\n",
      "Unique Values: 2\n",
      "+------+\n",
      "|gender|\n",
      "+------+\n",
      "|     F|\n",
      "|     M|\n",
      "+------+\n",
      "\n",
      "Iteminsession\n",
      "Unique Values: 1311\n",
      "+-------------+\n",
      "|itemInSession|\n",
      "+-------------+\n",
      "|            0|\n",
      "|            1|\n",
      "|            2|\n",
      "|            3|\n",
      "|            4|\n",
      "+-------------+\n",
      "only showing top 5 rows\n",
      "\n",
      "Lastname\n",
      "Unique Values: 173\n",
      "+---------+\n",
      "| lastName|\n",
      "+---------+\n",
      "|    Adams|\n",
      "|  Aguilar|\n",
      "|Alexander|\n",
      "|    Allen|\n",
      "| Atkinson|\n",
      "+---------+\n",
      "only showing top 5 rows\n",
      "\n",
      "Length\n",
      "Unique Values: 14866\n",
      "+-------+\n",
      "| length|\n",
      "+-------+\n",
      "|   null|\n",
      "|0.78322|\n",
      "|2.16771|\n",
      "|4.04853|\n",
      "| 4.8322|\n",
      "+-------+\n",
      "only showing top 5 rows\n",
      "\n",
      "Level\n",
      "Unique Values: 2\n",
      "+-----+\n",
      "|level|\n",
      "+-----+\n",
      "| free|\n",
      "| paid|\n",
      "+-----+\n",
      "\n",
      "Location\n",
      "Unique Values: 114\n",
      "+--------------------+\n",
      "|            location|\n",
      "+--------------------+\n",
      "|          Albany, OR|\n",
      "|Albany-Schenectad...|\n",
      "|      Alexandria, LA|\n",
      "|Allentown-Bethleh...|\n",
      "|       Anchorage, AK|\n",
      "+--------------------+\n",
      "only showing top 5 rows\n",
      "\n",
      "Method\n",
      "Unique Values: 2\n",
      "+------+\n",
      "|method|\n",
      "+------+\n",
      "|   GET|\n",
      "|   PUT|\n",
      "+------+\n",
      "\n",
      "Page\n",
      "Unique Values: 19\n",
      "+--------------------+\n",
      "|                page|\n",
      "+--------------------+\n",
      "|               About|\n",
      "|          Add Friend|\n",
      "|     Add to Playlist|\n",
      "|              Cancel|\n",
      "|Cancellation Conf...|\n",
      "+--------------------+\n",
      "only showing top 5 rows\n",
      "\n",
      "Registration\n",
      "Unique Values: 225\n",
      "+-------------+\n",
      "| registration|\n",
      "+-------------+\n",
      "|1521380675000|\n",
      "|1526739206000|\n",
      "|1526838391000|\n",
      "|1528403713000|\n",
      "|1528560242000|\n",
      "+-------------+\n",
      "only showing top 5 rows\n",
      "\n",
      "Sessionid\n",
      "Unique Values: 2312\n",
      "+---------+\n",
      "|sessionId|\n",
      "+---------+\n",
      "|        1|\n",
      "|        2|\n",
      "|        3|\n",
      "|        4|\n",
      "|        5|\n",
      "+---------+\n",
      "only showing top 5 rows\n",
      "\n",
      "Song\n",
      "Unique Values: 58481\n",
      "+--------------------+\n",
      "|                song|\n",
      "+--------------------+\n",
      "|                null|\n",
      "|\u001c",
      "ÃÂg ÃÂtti Gr...|\n",
      "| I Will Not Reap ...|\n",
      "|              !@*$%#|\n",
      "|#!*@ You Tonight ...|\n",
      "+--------------------+\n",
      "only showing top 5 rows\n",
      "\n",
      "Status\n",
      "Unique Values: 3\n",
      "+------+\n",
      "|status|\n",
      "+------+\n",
      "|   200|\n",
      "|   307|\n",
      "|   404|\n",
      "+------+\n",
      "\n",
      "Ts\n",
      "Unique Values: 269770\n",
      "+-------------+\n",
      "|           ts|\n",
      "+-------------+\n",
      "|1538352117000|\n",
      "|1538352180000|\n",
      "|1538352394000|\n",
      "|1538352416000|\n",
      "|1538352676000|\n",
      "+-------------+\n",
      "only showing top 5 rows\n",
      "\n",
      "Useragent\n",
      "Unique Values: 56\n",
      "+--------------------+\n",
      "|           userAgent|\n",
      "+--------------------+\n",
      "|\"Mozilla/5.0 (Mac...|\n",
      "|\"Mozilla/5.0 (Mac...|\n",
      "|\"Mozilla/5.0 (Mac...|\n",
      "|\"Mozilla/5.0 (Mac...|\n",
      "|\"Mozilla/5.0 (Mac...|\n",
      "+--------------------+\n",
      "only showing top 5 rows\n",
      "\n",
      "Userid\n",
      "Unique Values: 225\n",
      "+------+\n",
      "|userId|\n",
      "+------+\n",
      "|    10|\n",
      "|   100|\n",
      "|100001|\n",
      "|100002|\n",
      "|100003|\n",
      "+------+\n",
      "only showing top 5 rows\n",
      "\n"
     ]
    }
   ],
   "source": [
    "# Preview of all columns\n",
    "for col in df.columns:\n",
    "    print(f'{col.title()}')\n",
    "    print(f'Unique Values: {df.select(col).dropDuplicates().count()}')\n",
    "    df.select(col).dropDuplicates().sort(col).show(5)"
   ]
  },
  {
   "cell_type": "code",
   "execution_count": 15,
   "metadata": {},
   "outputs": [
    {
     "name": "stdout",
     "output_type": "stream",
     "text": [
      "+--------------------+--------------------+-----+\n",
      "|                song|              artist|count|\n",
      "+--------------------+--------------------+-----+\n",
      "|      You're The One|       Dwight Yoakam| 1122|\n",
      "|                Undo|            BjÃÂ¶rk| 1026|\n",
      "|             Revelry|       Kings Of Leon|  854|\n",
      "|       Sehr kosmisch|            Harmonia|  728|\n",
      "|Horn Concerto No....|Barry Tuckwell/Ac...|  641|\n",
      "|Dog Days Are Over...|Florence + The Ma...|  574|\n",
      "|             Secrets|         OneRepublic|  463|\n",
      "|        Use Somebody|       Kings Of Leon|  459|\n",
      "|              Canada|    Five Iron Frenzy|  434|\n",
      "|             Invalid|            Tub Ring|  424|\n",
      "|    Ain't Misbehavin|           Sam Cooke|  409|\n",
      "|       ReprÃÂ©sente|     Alliance Ethnik|  393|\n",
      "|SinceritÃÂ© Et J...|     Alliance Ethnik|  384|\n",
      "|Catch You Baby (S...|       Lonnie Gordon|  373|\n",
      "|              Yellow|            Coldplay|  340|\n",
      "|    Hey_ Soul Sister|               Train|  334|\n",
      "|    Somebody To Love|       Justin Bieber|  328|\n",
      "|            The Gift| Angels and Airwaves|  326|\n",
      "|           Fireflies|  Charttraxx Karaoke|  309|\n",
      "|            Tive Sim|             Cartola|  304|\n",
      "+--------------------+--------------------+-----+\n",
      "only showing top 20 rows\n",
      "\n"
     ]
    }
   ],
   "source": [
    "# Songs with most interactions\n",
    "df.select(['artist','song']).groupby(['song','artist']).count().dropna().orderBy('count', ascending=False).show()"
   ]
  },
  {
   "cell_type": "code",
   "execution_count": 16,
   "metadata": {},
   "outputs": [
    {
     "name": "stdout",
     "output_type": "stream",
     "text": [
      "+--------------------+\n",
      "|                page|\n",
      "+--------------------+\n",
      "|               About|\n",
      "|          Add Friend|\n",
      "|     Add to Playlist|\n",
      "|              Cancel|\n",
      "|Cancellation Conf...|\n",
      "|           Downgrade|\n",
      "|               Error|\n",
      "|                Help|\n",
      "|                Home|\n",
      "|              Logout|\n",
      "|            NextSong|\n",
      "|         Roll Advert|\n",
      "|       Save Settings|\n",
      "|            Settings|\n",
      "|    Submit Downgrade|\n",
      "|      Submit Upgrade|\n",
      "|         Thumbs Down|\n",
      "|           Thumbs Up|\n",
      "|             Upgrade|\n",
      "+--------------------+\n",
      "\n"
     ]
    }
   ],
   "source": [
    "# Inspect Feature 'page'\n",
    "df.select('page').dropDuplicates().sort('page').show()"
   ]
  },
  {
   "cell_type": "code",
   "execution_count": 17,
   "metadata": {},
   "outputs": [
    {
     "data": {
      "image/png": "[encoded data removed]",
      "text/plain": [
       "<matplotlib.figure.Figure at 0x7f6a66917b70>"
      ]
     },
     "metadata": {
      "needs_background": "light"
     },
     "output_type": "display_data"
    }
   ],
   "source": [
    "# Page Visits\n",
    "page_visits_pd = df.groupby('page').count().toPandas().sort_values('count')\n",
    "\n",
    "# Plot\n",
    "plt.figure(figsize=(15,8))\n",
    "sns.barplot(x='page', y='count', data=page_visits_pd, color='steelblue')\n",
    "plt.title('Page Visits', fontsize=14)\n",
    "plt.xticks(rotation=40)\n",
    "plt.xlabel('', fontsize=12)\n",
    "plt.ylabel('#Page Visits', fontsize=12)\n",
    "plt.show()"
   ]
  },
  {
   "cell_type": "code",
   "execution_count": 18,
   "metadata": {},
   "outputs": [],
   "source": [
    "# Define \"Churn\" via user defined function\n",
    "churn = udf(lambda x: 1 if x == 'Cancellation Confirmation' else 0, IntegerType())\n",
    "downgrade_churn = udf(lambda x: 1 if x == 'Submit Downgrade' else 0, IntegerType())\n",
    "\n",
    "# New dataframe with additional columns 'downgraded' and 'cancelled'\n",
    "df = df.withColumn('downgraded', downgrade_churn('page')).withColumn('cancelled', churn('page'))"
   ]
  },
  {
   "cell_type": "code",
   "execution_count": 19,
   "metadata": {},
   "outputs": [
    {
     "name": "stdout",
     "output_type": "stream",
     "text": [
      "root\n",
      " |-- artist: string (nullable = true)\n",
      " |-- auth: string (nullable = true)\n",
      " |-- firstName: string (nullable = true)\n",
      " |-- gender: string (nullable = true)\n",
      " |-- itemInSession: long (nullable = true)\n",
      " |-- lastName: string (nullable = true)\n",
      " |-- length: double (nullable = true)\n",
      " |-- level: string (nullable = true)\n",
      " |-- location: string (nullable = true)\n",
      " |-- method: string (nullable = true)\n",
      " |-- page: string (nullable = true)\n",
      " |-- registration: long (nullable = true)\n",
      " |-- sessionId: long (nullable = true)\n",
      " |-- song: string (nullable = true)\n",
      " |-- status: long (nullable = true)\n",
      " |-- ts: long (nullable = true)\n",
      " |-- userAgent: string (nullable = true)\n",
      " |-- userId: string (nullable = true)\n",
      " |-- downgraded: integer (nullable = true)\n",
      " |-- cancelled: integer (nullable = true)\n",
      "\n"
     ]
    }
   ],
   "source": [
    "df.printSchema()"
   ]
  },
  {
   "cell_type": "code",
   "execution_count": 20,
   "metadata": {},
   "outputs": [
    {
     "data": {
      "text/plain": [
       "[Row(userId='78', page='NextSong', downgraded=0, cancelled=0),\n",
       " Row(userId='78', page='Thumbs Down', downgraded=0, cancelled=0),\n",
       " Row(userId='25', page='NextSong', downgraded=0, cancelled=0),\n",
       " Row(userId='15', page='NextSong', downgraded=0, cancelled=0),\n",
       " Row(userId='27', page='Home', downgraded=0, cancelled=0)]"
      ]
     },
     "execution_count": 20,
     "metadata": {},
     "output_type": "execute_result"
    }
   ],
   "source": [
    "df.select(['userId', 'page', 'downgraded', 'cancelled']).head(5)"
   ]
  },
  {
   "cell_type": "code",
   "execution_count": 21,
   "metadata": {},
   "outputs": [
    {
     "data": {
      "text/plain": [
       "[Row(userId='61', page='Submit Downgrade', downgraded=1, cancelled=0),\n",
       " Row(userId='200009', page='Submit Downgrade', downgraded=1, cancelled=0),\n",
       " Row(userId='95', page='Submit Downgrade', downgraded=1, cancelled=0),\n",
       " Row(userId='13', page='Submit Downgrade', downgraded=1, cancelled=0),\n",
       " Row(userId='100009', page='Submit Downgrade', downgraded=1, cancelled=0)]"
      ]
     },
     "execution_count": 21,
     "metadata": {},
     "output_type": "execute_result"
    }
   ],
   "source": [
    "df.select(['userId', 'page', 'downgraded', 'cancelled']).where(df.page == 'Submit Downgrade').head(5)"
   ]
  },
  {
   "cell_type": "code",
   "execution_count": 22,
   "metadata": {},
   "outputs": [
    {
     "data": {
      "text/plain": [
       "[Row(userId='100022', page='Cancellation Confirmation', downgraded=0, cancelled=1),\n",
       " Row(userId='200020', page='Cancellation Confirmation', downgraded=0, cancelled=1),\n",
       " Row(userId='28', page='Cancellation Confirmation', downgraded=0, cancelled=1),\n",
       " Row(userId='100009', page='Cancellation Confirmation', downgraded=0, cancelled=1),\n",
       " Row(userId='100015', page='Cancellation Confirmation', downgraded=0, cancelled=1)]"
      ]
     },
     "execution_count": 22,
     "metadata": {},
     "output_type": "execute_result"
    }
   ],
   "source": [
    "df.select(['userId', 'page', 'downgraded', 'cancelled']).where(df.page == 'Cancellation Confirmation').head(5)"
   ]
  },
  {
   "cell_type": "code",
   "execution_count": 23,
   "metadata": {},
   "outputs": [
    {
     "name": "stdout",
     "output_type": "stream",
     "text": [
      "+-------+------------------+------------------+------------------+\n",
      "|summary|            userId|        downgraded|         cancelled|\n",
      "+-------+------------------+------------------+------------------+\n",
      "|  count|               225|               225|               225|\n",
      "|   mean|65391.013333333336|              0.28|0.2311111111111111|\n",
      "| stddev|105396.47791907164|0.5876709477736184|0.4224832108996327|\n",
      "|    min|                10|                 0|                 0|\n",
      "|    max|                99|                 3|                 1|\n",
      "+-------+------------------+------------------+------------------+\n",
      "\n"
     ]
    }
   ],
   "source": [
    "# Show churn statistics\n",
    "df.select(['userId','downgraded','cancelled']).groupBy('userId').sum()\\\n",
    "    .withColumnRenamed('sum(downgraded)','downgraded')\\\n",
    "    .withColumnRenamed('sum(cancelled)','cancelled').describe().show()"
   ]
  },
  {
   "cell_type": "code",
   "execution_count": 24,
   "metadata": {},
   "outputs": [
    {
     "name": "stdout",
     "output_type": "stream",
     "text": [
      "Number of users who downgraded: 49\n",
      "Number of users who cancelled: 52\n"
     ]
    }
   ],
   "source": [
    "print('Number of users who downgraded: ' + str(df.filter(df.downgraded == 1).select('userId').dropDuplicates().count()))\n",
    "print('Number of users who cancelled: ' + str(df.filter(df.cancelled == 1).select('userId').dropDuplicates().count()))"
   ]
  },
  {
   "cell_type": "code",
   "execution_count": 25,
   "metadata": {},
   "outputs": [],
   "source": [
    "# Get hour, day, weekday out of timestamp \"ts\"\n",
    "get_hour = udf(lambda x: datetime.datetime.fromtimestamp(x / 1000.0).hour, IntegerType())\n",
    "get_weekday = udf(lambda x: datetime.datetime.fromtimestamp(x / 1000.0).weekday(), IntegerType())\n",
    "\n",
    "# Add columns 'hour', 'day', 'weekday' to dataframe\n",
    "df_sub = df.withColumn(\"hour\", get_hour(df.ts))\n",
    "df_sub = df_sub.withColumn(\"weekday\", get_weekday(df.ts))"
   ]
  },
  {
   "cell_type": "code",
   "execution_count": 26,
   "metadata": {},
   "outputs": [
    {
     "name": "stdout",
     "output_type": "stream",
     "text": [
      "root\n",
      " |-- artist: string (nullable = true)\n",
      " |-- auth: string (nullable = true)\n",
      " |-- firstName: string (nullable = true)\n",
      " |-- gender: string (nullable = true)\n",
      " |-- itemInSession: long (nullable = true)\n",
      " |-- lastName: string (nullable = true)\n",
      " |-- length: double (nullable = true)\n",
      " |-- level: string (nullable = true)\n",
      " |-- location: string (nullable = true)\n",
      " |-- method: string (nullable = true)\n",
      " |-- page: string (nullable = true)\n",
      " |-- registration: long (nullable = true)\n",
      " |-- sessionId: long (nullable = true)\n",
      " |-- song: string (nullable = true)\n",
      " |-- status: long (nullable = true)\n",
      " |-- ts: long (nullable = true)\n",
      " |-- userAgent: string (nullable = true)\n",
      " |-- userId: string (nullable = true)\n",
      " |-- downgraded: integer (nullable = true)\n",
      " |-- cancelled: integer (nullable = true)\n",
      " |-- hour: integer (nullable = true)\n",
      " |-- weekday: integer (nullable = true)\n",
      "\n"
     ]
    }
   ],
   "source": [
    "df_sub.printSchema()"
   ]
  },
  {
   "cell_type": "code",
   "execution_count": 27,
   "metadata": {},
   "outputs": [
    {
     "data": {
      "text/plain": [
       "[Row(userId='78', ts=1538373133000, hour=5, weekday=0),\n",
       " Row(userId='78', ts=1538373134000, hour=5, weekday=0),\n",
       " Row(userId='25', ts=1538384924000, hour=9, weekday=0),\n",
       " Row(userId='15', ts=1538394878000, hour=11, weekday=0),\n",
       " Row(userId='27', ts=1538402423000, hour=14, weekday=0)]"
      ]
     },
     "execution_count": 27,
     "metadata": {},
     "output_type": "execute_result"
    }
   ],
   "source": [
    "df_sub.select(['userId','ts','hour','weekday']).head(5)"
   ]
  },
  {
   "cell_type": "code",
   "execution_count": 28,
   "metadata": {},
   "outputs": [
    {
     "data": {
      "image/png": "[encoded data removed]",
      "text/plain": [
       "<matplotlib.figure.Figure at 0x7f6a64169ef0>"
      ]
     },
     "metadata": {
      "needs_background": "light"
     },
     "output_type": "display_data"
    }
   ],
   "source": [
    "# User distribution per hour of the day\n",
    "users_per_hour_pd = df_sub.select(['userId','hour']).dropDuplicates().groupby(['hour']).count().sort('hour').toPandas()\n",
    "\n",
    "# Plot\n",
    "ax = users_per_hour_pd.plot(x='hour', kind='bar', figsize=(10,5))\n",
    "ax.get_legend().remove()\n",
    "plt.xlabel('\\nHour', fontsize=14)\n",
    "plt.ylabel('# Users', fontsize=14)\n",
    "plt.title('Users per hour', fontsize=14)\n",
    "plt.show()"
   ]
  },
  {
   "cell_type": "code",
   "execution_count": 29,
   "metadata": {},
   "outputs": [
    {
     "data": {
      "image/png": "[encoded data removed]",
      "text/plain": [
       "<matplotlib.figure.Figure at 0x7f6a64076cf8>"
      ]
     },
     "metadata": {
      "needs_background": "light"
     },
     "output_type": "display_data"
    }
   ],
   "source": [
    "# User interactions per hour\n",
    "interacts_per_hour_pd = df_sub.select(['userId','hour']).groupby(['hour']).count().sort('hour').toPandas()\n",
    "\n",
    "# Plot\n",
    "ax = interacts_per_hour_pd.plot(x='hour', kind='bar', figsize=(10,5))\n",
    "ax.get_legend().remove()\n",
    "plt.xlabel('\\nHour', fontsize=14)\n",
    "plt.ylabel('# Interactions', fontsize=14)\n",
    "plt.title('User interactions per hour', fontsize=14)\n",
    "plt.show()"
   ]
  },
  {
   "cell_type": "code",
   "execution_count": 30,
   "metadata": {},
   "outputs": [
    {
     "data": {
      "image/png": "[encoded data removed]",
      "text/plain": [
       "<matplotlib.figure.Figure at 0x7f6a64065a90>"
      ]
     },
     "metadata": {
      "needs_background": "light"
     },
     "output_type": "display_data"
    }
   ],
   "source": [
    "# User interactions per weekday\n",
    "interacts_per_weekday_pd = df_sub.select(['userId','weekday']).groupby(['weekday']).count().sort('weekday').toPandas()\n",
    "\n",
    "# Plot\n",
    "ax = interacts_per_weekday_pd.plot(x='weekday', kind='bar', figsize=(10,5))\n",
    "ax.get_legend().remove()\n",
    "plt.xlabel('\\nWeekday', fontsize=14)\n",
    "plt.ylabel('# Interactions', fontsize=14)\n",
    "plt.title('User interactions per weekday', fontsize=14)\n",
    "plt.xticks(range(7), ['Mon', 'Tue', 'Wed', 'Thu', 'Fri', 'Sat', 'Sun'])\n",
    "plt.show()"
   ]
  },
  {
   "cell_type": "code",
   "execution_count": 31,
   "metadata": {},
   "outputs": [
    {
     "data": {
      "image/png": "[encoded data removed]",
      "text/plain": [
       "<matplotlib.figure.Figure at 0x7f6a5ff390b8>"
      ]
     },
     "metadata": {
      "needs_background": "light"
     },
     "output_type": "display_data"
    }
   ],
   "source": [
    "# Churn per weekday\n",
    "churn_per_weekday_pd = df_sub.select(['userId','weekday','cancelled']).groupby(['weekday']).sum().sort('weekday').toPandas()\n",
    "\n",
    "# Plot\n",
    "ax = churn_per_weekday_pd[['weekday','sum(cancelled)']].plot(x='weekday', kind='bar', figsize=(10,5))\n",
    "ax.get_legend().remove()\n",
    "plt.xlabel('', fontsize=14)\n",
    "plt.ylabel('Churn rate', fontsize=14)\n",
    "plt.title('Churn per weekday', fontsize=14)\n",
    "plt.xticks(range(7), ['Mon', 'Tue', 'Wed', 'Thu', 'Fri', 'Sat', 'Sun'])\n",
    "plt.show()"
   ]
  },
  {
   "cell_type": "code",
   "execution_count": 32,
   "metadata": {},
   "outputs": [
    {
     "name": "stdout",
     "output_type": "stream",
     "text": [
      "Churner per gender\n",
      "+------+-----+\n",
      "|gender|count|\n",
      "+------+-----+\n",
      "|     F|   20|\n",
      "|     M|   32|\n",
      "+------+-----+\n",
      "\n",
      "Non-churner per gender\n",
      "+------+-----+\n",
      "|gender|count|\n",
      "+------+-----+\n",
      "|     F|  104|\n",
      "|     M|  121|\n",
      "+------+-----+\n",
      "\n"
     ]
    }
   ],
   "source": [
    "# Churn per gender\n",
    "print('Churner per gender')\n",
    "df.filter(df.page == 'Cancellation Confirmation').select(['userId', 'gender']).drop_duplicates().groupby('gender').count().show()\n",
    "\n",
    "print('Non-churner per gender')\n",
    "df.filter(df.page != 'Cancellation Confirmation').select(['userId', 'gender']).drop_duplicates().groupby('gender').count().show()"
   ]
  },
  {
   "cell_type": "code",
   "execution_count": 33,
   "metadata": {},
   "outputs": [
    {
     "data": {
      "image/png": "[encoded data removed]",
      "text/plain": [
       "<matplotlib.figure.Figure at 0x7f6a66917d68>"
      ]
     },
     "metadata": {
      "needs_background": "light"
     },
     "output_type": "display_data"
    }
   ],
   "source": [
    "# Churn per gender plot\n",
    "churn_gender_pd = df.filter(df.page == 'Cancellation Confirmation').select(['userId', 'gender']).drop_duplicates().groupby('gender').count().toPandas()\n",
    "churn_gender_pd['Churn'] = True\n",
    "nonchurn_gender_pd = df.filter(df.page != 'Cancellation Confirmation').select(['userId', 'gender']).drop_duplicates().groupby('gender').count().toPandas()\n",
    "nonchurn_gender_pd['Churn'] = False\n",
    "churn_gender = pd.concat([churn_gender_pd,nonchurn_gender_pd], sort=False, ignore_index=True)\n",
    "\n",
    "# Plot\n",
    "sns.barplot(x='gender', y='count', hue='Churn', data=churn_gender)\n",
    "plt.xlabel('Gender', fontsize=12)\n",
    "plt.ylabel('#Churned users', fontsize=12)\n",
    "plt.title('Churn per Gender', fontsize=14)\n",
    "plt.show()"
   ]
  },
  {
   "cell_type": "code",
   "execution_count": 34,
   "metadata": {},
   "outputs": [
    {
     "name": "stdout",
     "output_type": "stream",
     "text": [
      "Churner per level\n",
      "+-----+-----+\n",
      "|level|count|\n",
      "+-----+-----+\n",
      "| free|   21|\n",
      "| paid|   31|\n",
      "+-----+-----+\n",
      "\n",
      "Non-churner per level\n",
      "+-----+-----+\n",
      "|level|count|\n",
      "+-----+-----+\n",
      "| free|  195|\n",
      "| paid|  165|\n",
      "+-----+-----+\n",
      "\n"
     ]
    }
   ],
   "source": [
    "# Churn per level\n",
    "print('Churner per level')\n",
    "df.filter(df.page == 'Cancellation Confirmation').select(['userId', 'level']).drop_duplicates().groupby('level').count().show()\n",
    "\n",
    "print('Non-churner per level')\n",
    "df.filter(df.page != 'Cancellation Confirmation').select(['userId', 'level']).drop_duplicates().groupby('level').count().show()"
   ]
  },
  {
   "cell_type": "code",
   "execution_count": 35,
   "metadata": {},
   "outputs": [
    {
     "data": {
      "image/png": "[encoded data removed]",
      "text/plain": [
       "<matplotlib.figure.Figure at 0x7f6a5ff084e0>"
      ]
     },
     "metadata": {
      "needs_background": "light"
     },
     "output_type": "display_data"
    }
   ],
   "source": [
    "# Churn per level plot\n",
    "churn_level_pd = df.filter(df.page == 'Cancellation Confirmation').select(['userId', 'level']).drop_duplicates().groupby('level').count().toPandas()\n",
    "churn_level_pd['Churn'] = True\n",
    "nonchurn_level_pd = df.filter(df.page != 'Cancellation Confirmation').select(['userId', 'level']).drop_duplicates().groupby('level').count().toPandas()\n",
    "nonchurn_level_pd['Churn'] = False\n",
    "churn_level = pd.concat([churn_level_pd,nonchurn_level_pd], sort=False, ignore_index=True)\n",
    "\n",
    "# Plot\n",
    "sns.barplot(x='level', y='count', hue='Churn', data=churn_level)\n",
    "plt.xlabel('Level', fontsize=12)\n",
    "plt.ylabel('#Churned users', fontsize=12)\n",
    "plt.title('Churn per Level', fontsize=14)\n",
    "plt.show()"
   ]
  },
  {
   "cell_type": "code",
   "execution_count": 36,
   "metadata": {},
   "outputs": [
    {
     "name": "stdout",
     "output_type": "stream",
     "text": [
      "Churner per device\n",
      "+---------+-----+\n",
      "|   Device|count|\n",
      "+---------+-----+\n",
      "|      X11|    5|\n",
      "|   iPhone|    4|\n",
      "|Macintosh|   19|\n",
      "|  Windows|   24|\n",
      "+---------+-----+\n",
      "\n",
      "Non-churner per device\n",
      "+----------+-----+\n",
      "|    Device|count|\n",
      "+----------+-----+\n",
      "|      iPad|    3|\n",
      "|       X11|   12|\n",
      "|    iPhone|   13|\n",
      "| Macintosh|   86|\n",
      "|compatible|    5|\n",
      "|   Windows|  106|\n",
      "+----------+-----+\n",
      "\n"
     ]
    }
   ],
   "source": [
    "# Churn per device\n",
    "get_device = udf(lambda x: x.split('(')[1].replace(\";\", \" \").split(\" \")[0])\n",
    "df_devices = df.withColumn('Device', get_device('userAgent'))\n",
    "\n",
    "print('Churner per device')\n",
    "df_devices.filter(df.page == 'Cancellation Confirmation').select(['userId', 'Device']).drop_duplicates().groupby('Device').count().show()\n",
    "\n",
    "print('Non-churner per device')\n",
    "df_devices.filter(df.page != 'Cancellation Confirmation').select(['userId', 'Device']).drop_duplicates().groupby('Device').count().show()"
   ]
  },
  {
   "cell_type": "code",
   "execution_count": 37,
   "metadata": {},
   "outputs": [
    {
     "data": {
      "image/png": "[encoded data removed]",
      "text/plain": [
       "<matplotlib.figure.Figure at 0x7f6a5fb2cda0>"
      ]
     },
     "metadata": {
      "needs_background": "light"
     },
     "output_type": "display_data"
    }
   ],
   "source": [
    "# Churn per device plot\n",
    "churn_device_pd = df_devices.filter(df_devices.page == 'Cancellation Confirmation').select(['userId', 'Device']).drop_duplicates().groupby('Device').count().toPandas()\n",
    "churn_device_pd['Churn'] = True\n",
    "nonchurn_device_pd = df_devices.filter(df_devices.page != 'Cancellation Confirmation').select(['userId', 'Device']).drop_duplicates().groupby('Device').count().toPandas()\n",
    "nonchurn_device_pd['Churn'] = False\n",
    "churn_device = pd.concat([churn_device_pd,nonchurn_device_pd], sort=False, ignore_index=True)\n",
    "\n",
    "# Plot\n",
    "sns.barplot(x='Device', y='count', hue='Churn', data=churn_device)\n",
    "plt.xlabel('Device', fontsize=12)\n",
    "plt.ylabel('#Churned users', fontsize=12)\n",
    "plt.title('Churn per Device', fontsize=14)\n",
    "plt.show()"
   ]
  },
  {
   "cell_type": "markdown",
   "metadata": {},
   "source": [
    "# Feature Engineering\n",
    "Once you've familiarized yourself with the data, build out the features you find promising to train your model on. To work with the full dataset, you can follow the following steps.\n",
    "- Write a script to extract the necessary features from the smaller subset of data\n",
    "- Ensure that your script is scalable, using the best practices discussed in Lesson 3\n",
    "- Try your script on the full data set, debugging your script if necessary\n",
    "\n",
    "If you are working in the classroom workspace, you can just extract features based on the small subset of data contained here. Be sure to transfer over this work to the larger dataset when you work on your Spark cluster."
   ]
  },
  {
   "cell_type": "markdown",
   "metadata": {},
   "source": [
    "### Feature Creation"
   ]
  },
  {
   "cell_type": "markdown",
   "metadata": {},
   "source": [
    "The following Features will be creted at user level:\n",
    "\n",
    "1.  avg_session_duration: average session duration [float]\n",
    "2.  churn: \"1\" for a page cancellation confirmation (defined as churn), \"0\" for absence of churn [binary]\n",
    "3.  gender: \"1\" for male, \"0\" for female [binary]\n",
    "4.  length: total length of songs listened [float]\n",
    "5.  level: latest level of a user. \"1\" for paid, \"0\" for free [binary]\n",
    "6.  location: location of the user [binary]\n",
    "7.  page: number visits per page [int]\n",
    "8.  time_since_reg: time since registration [int]\n",
    "9.  sessions: total number of sessions [int]\n",
    "10. songs: total number of songs listend [int]\n",
    "11. userAgent: agents used by the user [binary]"
   ]
  },
  {
   "cell_type": "code",
   "execution_count": 38,
   "metadata": {},
   "outputs": [],
   "source": [
    "# Load small subset for feature engineering\n",
    "df = spark.read.json('mini_sparkify_event_data.json')\n",
    "\n",
    "# Drop rows with missing user id\n",
    "df = df.where(df.userId != '')"
   ]
  },
  {
   "cell_type": "markdown",
   "metadata": {},
   "source": [
    "#### 1.  avg_session_duration"
   ]
  },
  {
   "cell_type": "code",
   "execution_count": 39,
   "metadata": {},
   "outputs": [
    {
     "name": "stdout",
     "output_type": "stream",
     "text": [
      "+------+--------------------+\n",
      "|userId|avg_session_duration|\n",
      "+------+--------------------+\n",
      "|    92|1.538592785972602...|\n",
      "|    42|1.538685408666666...|\n",
      "|   101|1.539165263256140...|\n",
      "|   120|1.539209327272030...|\n",
      "|   140|1.539424855166666...|\n",
      "+------+--------------------+\n",
      "only showing top 5 rows\n",
      "\n"
     ]
    }
   ],
   "source": [
    "# Create Feature\n",
    "avg_session_duration = df.select(['userId','sessionId','ts']).groupby(['userId','sessionId']).agg(avg('ts').alias('avg_session_duration'))\n",
    "avg_session_duration = avg_session_duration.drop('sessionId')\n",
    "avg_session_duration.show(5)"
   ]
  },
  {
   "cell_type": "markdown",
   "metadata": {},
   "source": [
    "#### 2.  churn"
   ]
  },
  {
   "cell_type": "code",
   "execution_count": 40,
   "metadata": {},
   "outputs": [
    {
     "name": "stdout",
     "output_type": "stream",
     "text": [
      "Number of rows: 225\n",
      "+------+-----+\n",
      "|userId|churn|\n",
      "+------+-----+\n",
      "|100010|    0|\n",
      "|200002|    0|\n",
      "|   125|    1|\n",
      "|    51|    1|\n",
      "|   124|    0|\n",
      "+------+-----+\n",
      "only showing top 5 rows\n",
      "\n"
     ]
    }
   ],
   "source": [
    "# User definded function\n",
    "get_churn = udf(lambda x: 1 if x == 'Cancellation Confirmation' else 0, IntegerType())\n",
    "\n",
    "# Create feature\n",
    "churn = df.withColumn('churn', get_churn('page')).select(['userId','churn']).groupby('userId').agg(max('churn').alias('churn'))\n",
    "# Validation\n",
    "print('Number of rows: ' + str(churn.count()))\n",
    "churn.show(5)"
   ]
  },
  {
   "cell_type": "markdown",
   "metadata": {},
   "source": [
    "#### 3.  gender"
   ]
  },
  {
   "cell_type": "code",
   "execution_count": 41,
   "metadata": {},
   "outputs": [
    {
     "name": "stdout",
     "output_type": "stream",
     "text": [
      "Number of rows: 225\n",
      "+------+------+\n",
      "|userId|gender|\n",
      "+------+------+\n",
      "|100010|     0|\n",
      "|200002|     1|\n",
      "|   125|     1|\n",
      "|    51|     1|\n",
      "|   124|     0|\n",
      "+------+------+\n",
      "only showing top 5 rows\n",
      "\n"
     ]
    }
   ],
   "source": [
    "# User definded function\n",
    "get_gender = udf(lambda x: 1 if x == 'M' else 0, IntegerType())\n",
    "\n",
    "# Create feature\n",
    "gender = df.withColumn('gender', get_gender('gender')).select(['userId','gender']).groupby('userId').agg(max('gender').alias('gender'))\n",
    "\n",
    "# Validation\n",
    "print('Number of rows: ' + str(gender.count()))\n",
    "gender.show(5)"
   ]
  },
  {
   "cell_type": "markdown",
   "metadata": {},
   "source": [
    "#### 4.  length"
   ]
  },
  {
   "cell_type": "code",
   "execution_count": 42,
   "metadata": {},
   "outputs": [
    {
     "name": "stdout",
     "output_type": "stream",
     "text": [
      "Number of rows: 225\n",
      "+------+------------------+\n",
      "|userId|            length|\n",
      "+------+------------------+\n",
      "|100010| 66940.89735000003|\n",
      "|200002| 94008.87593999993|\n",
      "|   125|2089.1131000000005|\n",
      "|    51| 523275.8428000004|\n",
      "|   124|1012312.0927899999|\n",
      "+------+------------------+\n",
      "only showing top 5 rows\n",
      "\n"
     ]
    }
   ],
   "source": [
    "# Create feature\n",
    "length = df.select(['userId','length']).groupby('userId').agg(sum('length').alias('length'))\n",
    "\n",
    "# Validation\n",
    "print('Number of rows: ' + str(length.count()))\n",
    "length.show(5)"
   ]
  },
  {
   "cell_type": "markdown",
   "metadata": {},
   "source": [
    "#### 5.  level"
   ]
  },
  {
   "cell_type": "code",
   "execution_count": 43,
   "metadata": {},
   "outputs": [
    {
     "name": "stdout",
     "output_type": "stream",
     "text": [
      "Number of rows: 225\n",
      "+------+-----+\n",
      "|userId|level|\n",
      "+------+-----+\n",
      "|100010|    0|\n",
      "|200002|    1|\n",
      "|   125|    0|\n",
      "|   124|    1|\n",
      "|    51|    1|\n",
      "+------+-----+\n",
      "only showing top 5 rows\n",
      "\n"
     ]
    }
   ],
   "source": [
    "# User definded function\n",
    "get_level = udf(lambda x: 1 if x == 'paid' else 0, IntegerType())\n",
    "\n",
    "# Create feature\n",
    "level = df.select(['userId', 'level', 'ts']).orderBy(desc('ts')).dropDuplicates(['userId']).select(['userId', 'level'])\\\n",
    "        .withColumn('level', get_level('level').cast(IntegerType()))\n",
    "\n",
    "# Validation\n",
    "print('Number of rows: ' + str(level.count()))\n",
    "level.show(5)"
   ]
  },
  {
   "cell_type": "markdown",
   "metadata": {},
   "source": [
    "#### 6.  location"
   ]
  },
  {
   "cell_type": "code",
   "execution_count": 44,
   "metadata": {},
   "outputs": [
    {
     "name": "stdout",
     "output_type": "stream",
     "text": [
      "Number of rows: 225\n",
      "+------+---+---+---+---+---+---+---+---+---+---+---+---+---+---+---+---+---+---+---+---+---+---+---+---+---+---+---+---+---+---+---+---+---+---+---+---+---+---+---+---+---+\n",
      "|userId| AK| AL| AR| AZ| CA| CO| CT| DC| FL| GA| IA| IL| IN| KY| LA| MA| MD| MI| MN| MO| MS| MT| NC| NE| NH| NJ| NV| NY| OH| OK| OR| PA| RI| SC| TN| TX| UT| VA| WA| WI| WV|\n",
      "+------+---+---+---+---+---+---+---+---+---+---+---+---+---+---+---+---+---+---+---+---+---+---+---+---+---+---+---+---+---+---+---+---+---+---+---+---+---+---+---+---+---+\n",
      "|100010|  0|  0|  0|  0|  0|  0|  1|  0|  0|  0|  0|  0|  0|  0|  0|  0|  0|  0|  0|  0|  0|  0|  0|  0|  0|  0|  0|  0|  0|  0|  0|  0|  0|  0|  0|  0|  0|  0|  0|  0|  0|\n",
      "|200002|  0|  0|  0|  0|  0|  0|  0|  0|  0|  0|  0|  1|  0|  0|  0|  0|  0|  0|  0|  0|  0|  0|  0|  0|  0|  0|  0|  0|  0|  0|  0|  0|  0|  0|  0|  0|  0|  0|  0|  0|  0|\n",
      "|   125|  0|  0|  0|  0|  0|  0|  0|  0|  0|  0|  0|  0|  0|  0|  0|  0|  0|  0|  0|  0|  0|  0|  0|  0|  0|  0|  0|  0|  0|  0|  0|  0|  0|  0|  0|  1|  0|  0|  0|  0|  0|\n",
      "|   124|  0|  0|  0|  0|  0|  0|  0|  0|  0|  0|  0|  0|  0|  0|  0|  0|  0|  0|  0|  0|  0|  0|  0|  0|  0|  1|  0|  0|  0|  0|  0|  0|  0|  0|  0|  0|  0|  0|  0|  0|  0|\n",
      "|    51|  0|  0|  0|  0|  0|  0|  0|  0|  0|  0|  0|  0|  0|  1|  0|  0|  0|  0|  0|  0|  0|  0|  0|  0|  0|  0|  0|  0|  0|  0|  0|  0|  0|  0|  0|  0|  0|  0|  0|  0|  0|\n",
      "+------+---+---+---+---+---+---+---+---+---+---+---+---+---+---+---+---+---+---+---+---+---+---+---+---+---+---+---+---+---+---+---+---+---+---+---+---+---+---+---+---+---+\n",
      "only showing top 5 rows\n",
      "\n"
     ]
    }
   ],
   "source": [
    "# User definded function\n",
    "get_location = udf(lambda x: x.split(', ')[1].split('-')[0])\n",
    "get_location_name = udf(lambda x: \"location_\"+x.replace(\" \", \"_\").lower())\n",
    "\n",
    "# Create feature\n",
    "location = df.withColumn('location', get_location(df['location'])).select(['userId', 'location']).dropDuplicates(['userId'])\\\n",
    "           .groupBy('userId').pivot('location').agg(count('location')).fillna(0)\n",
    "\n",
    "# Validation\n",
    "print('Number of rows: ' + str(location.count()))\n",
    "location.show(5)"
   ]
  },
  {
   "cell_type": "markdown",
   "metadata": {},
   "source": [
    "#### 7.  page"
   ]
  },
  {
   "cell_type": "code",
   "execution_count": 45,
   "metadata": {},
   "outputs": [
    {
     "name": "stdout",
     "output_type": "stream",
     "text": [
      "Number of rows: 225\n",
      "+------+----------+---------------+--------------------+--------------+----------+---------+---------+-----------+-------------+----------------+------------------+-------------+---------------------+-------------------+----------------+--------------+------------+\n",
      "|userId|page_about|page_add_friend|page_add_to_playlist|page_downgrade|page_error|page_help|page_home|page_logout|page_nextsong|page_roll_advert|page_save_settings|page_settings|page_submit_downgrade|page_submit_upgrade|page_thumbs_down|page_thumbs_up|page_upgrade|\n",
      "+------+----------+---------------+--------------------+--------------+----------+---------+---------+-----------+-------------+----------------+------------------+-------------+---------------------+-------------------+----------------+--------------+------------+\n",
      "|200002|         3|              4|                   8|             5|         0|        2|       20|          5|          387|               7|                 0|            3|                    0|                  1|               6|            21|           2|\n",
      "|100010|         1|              4|                   7|             0|         0|        2|       11|          5|          275|              52|                 0|            0|                    0|                  0|               5|            17|           2|\n",
      "|   125|         0|              0|                   0|             0|         0|        0|        0|          0|            8|               1|                 0|            0|                    0|                  0|               0|             0|           0|\n",
      "|     7|         0|              1|                   5|             0|         1|        1|       10|          3|          150|              16|                 1|            3|                    0|                  0|               1|             7|           2|\n",
      "|   124|         7|             74|                 118|            41|         6|       23|      176|         59|         4079|               4|                 6|           20|                    0|                  0|              41|           171|           0|\n",
      "+------+----------+---------------+--------------------+--------------+----------+---------+---------+-----------+-------------+----------------+------------------+-------------+---------------------+-------------------+----------------+--------------+------------+\n",
      "only showing top 5 rows\n",
      "\n"
     ]
    }
   ],
   "source": [
    "# User definded function\n",
    "get_page = udf(lambda x: 'page_' + x.replace(' ', '_').lower())\n",
    "exclude_page = ['Cancel', 'Cancellation Confirmation']\n",
    "\n",
    "# Create feature\n",
    "page = df.filter(~df['page'].isin(exclude_page)).withColumn('page', get_page(df['page']))\\\n",
    "                 .groupBy(['userId']).pivot('page').agg(count('page')).fillna(0)\n",
    "\n",
    "# Validation\n",
    "print('Number of rows: ' + str(page.count()))\n",
    "page.show(5)"
   ]
  },
  {
   "cell_type": "markdown",
   "metadata": {},
   "source": [
    "#### 8.  time_since_reg"
   ]
  },
  {
   "cell_type": "code",
   "execution_count": 46,
   "metadata": {},
   "outputs": [
    {
     "name": "stdout",
     "output_type": "stream",
     "text": [
      "Number of rows: 225\n",
      "+------+--------------+\n",
      "|userId|time_since_reg|\n",
      "+------+--------------+\n",
      "|100010|    4807612000|\n",
      "|200002|    6054448000|\n",
      "|   125|    6161779000|\n",
      "|   124|   11366431000|\n",
      "|    51|    1680985000|\n",
      "+------+--------------+\n",
      "only showing top 5 rows\n",
      "\n"
     ]
    }
   ],
   "source": [
    "# Create feature\n",
    "df_reg_ts = df.select(['userId','registration']).groupby('userId').agg(min('registration').alias('reg_ts'))\n",
    "df_max_ts = df.select(['userId','ts']).groupby('userId').agg(max('ts').alias('max_ts'))\n",
    "time_since_reg = df_max_ts.join(df_reg_ts, on=['userId'])\n",
    "\n",
    "# Calculate Delta\n",
    "time_since_reg = time_since_reg.withColumn('time_since_reg', expr('max_ts - reg_ts'))\n",
    "time_since_reg = time_since_reg.drop('max_ts')\n",
    "time_since_reg = time_since_reg.drop('reg_ts')\n",
    "\n",
    "# Validation\n",
    "print('Number of rows: ' + str(time_since_reg.count()))\n",
    "time_since_reg.show(5)"
   ]
  },
  {
   "cell_type": "markdown",
   "metadata": {},
   "source": [
    "#### 9.  sessions"
   ]
  },
  {
   "cell_type": "code",
   "execution_count": 47,
   "metadata": {},
   "outputs": [
    {
     "name": "stdout",
     "output_type": "stream",
     "text": [
      "Number of rows: 225\n",
      "+------+--------+\n",
      "|userId|sessions|\n",
      "+------+--------+\n",
      "|100010|       7|\n",
      "|200002|       6|\n",
      "|   125|       1|\n",
      "|    51|      10|\n",
      "|   124|      29|\n",
      "+------+--------+\n",
      "only showing top 5 rows\n",
      "\n"
     ]
    }
   ],
   "source": [
    "# Create feature\n",
    "sessions = df.select(['userId','sessionId']).dropDuplicates().groupby('userId').agg(count('sessionId').alias('sessions'))\n",
    "\n",
    "# Validation\n",
    "print('Number of rows: ' + str(sessions.count()))\n",
    "sessions.show(5)"
   ]
  },
  {
   "cell_type": "markdown",
   "metadata": {},
   "source": [
    "#### 10. songs"
   ]
  },
  {
   "cell_type": "code",
   "execution_count": 48,
   "metadata": {},
   "outputs": [
    {
     "name": "stdout",
     "output_type": "stream",
     "text": [
      "Number of rows: 225\n",
      "+------+-----+\n",
      "|userId|songs|\n",
      "+------+-----+\n",
      "|100010|  275|\n",
      "|200002|  387|\n",
      "|   125|    8|\n",
      "|    51| 2111|\n",
      "|   124| 4079|\n",
      "+------+-----+\n",
      "only showing top 5 rows\n",
      "\n"
     ]
    }
   ],
   "source": [
    "# Create feature\n",
    "songs = df.select(['userId','song']).groupby('userId').agg(count('song').alias('songs'))\n",
    "\n",
    "# Validation\n",
    "print('Number of rows: ' + str(songs.count()))\n",
    "songs.show(5)"
   ]
  },
  {
   "cell_type": "markdown",
   "metadata": {},
   "source": [
    "#### 11. userAgent"
   ]
  },
  {
   "cell_type": "code",
   "execution_count": 49,
   "metadata": {},
   "outputs": [
    {
     "name": "stdout",
     "output_type": "stream",
     "text": [
      "Number of rows: 225\n",
      "+------+---------+-------+---+----------+----+------+\n",
      "|userId|Macintosh|Windows|X11|compatible|iPad|iPhone|\n",
      "+------+---------+-------+---+----------+----+------+\n",
      "|100010|        0|      0|  0|         0|   0|     1|\n",
      "|200002|        0|      0|  0|         0|   0|     1|\n",
      "|   125|        1|      0|  0|         0|   0|     0|\n",
      "|   124|        1|      0|  0|         0|   0|     0|\n",
      "|    51|        0|      1|  0|         0|   0|     0|\n",
      "+------+---------+-------+---+----------+----+------+\n",
      "only showing top 5 rows\n",
      "\n"
     ]
    }
   ],
   "source": [
    "# User definded function\n",
    "get_agent = udf(lambda x: x.split('(')[1].replace(\";\", \" \").split(\" \")[0])\n",
    "\n",
    "# Create feature\n",
    "userAgent = df.withColumn('userAgent', get_agent(df['userAgent'])).select(['userId', 'userAgent']).dropDuplicates(['userId'])\\\n",
    "            .groupBy('userId').pivot('userAgent').agg(count('userAgent')).fillna(0)\n",
    "\n",
    "# Validation\n",
    "print('Number of rows: ' + str(userAgent.count()))\n",
    "userAgent.show(5)"
   ]
  },
  {
   "cell_type": "markdown",
   "metadata": {},
   "source": [
    "### Merge Features"
   ]
  },
  {
   "cell_type": "markdown",
   "metadata": {},
   "source": [
    "Bring together all built features."
   ]
  },
  {
   "cell_type": "code",
   "execution_count": 50,
   "metadata": {},
   "outputs": [],
   "source": [
    "df = churn.join(avg_session_duration, ['userId'])\\\n",
    "          .join(gender, ['userId'])\\\n",
    "          .join(length, ['userId'])\\\n",
    "          .join(level, ['userId'])\\\n",
    "          .join(location, ['userId'])\\\n",
    "          .join(page, ['userId'])\\\n",
    "          .join(time_since_reg, ['userId'])\\\n",
    "          .join(sessions, ['userId'])\\\n",
    "          .join(songs, ['userId'])\\\n",
    "          .join(userAgent, ['userId'])"
   ]
  },
  {
   "cell_type": "code",
   "execution_count": 51,
   "metadata": {},
   "outputs": [
    {
     "name": "stdout",
     "output_type": "stream",
     "text": [
      "root\n",
      " |-- userId: string (nullable = true)\n",
      " |-- churn: integer (nullable = true)\n",
      " |-- avg_session_duration: double (nullable = true)\n",
      " |-- gender: integer (nullable = true)\n",
      " |-- length: double (nullable = true)\n",
      " |-- level: integer (nullable = true)\n",
      " |-- AK: long (nullable = true)\n",
      " |-- AL: long (nullable = true)\n",
      " |-- AR: long (nullable = true)\n",
      " |-- AZ: long (nullable = true)\n",
      " |-- CA: long (nullable = true)\n",
      " |-- CO: long (nullable = true)\n",
      " |-- CT: long (nullable = true)\n",
      " |-- DC: long (nullable = true)\n",
      " |-- FL: long (nullable = true)\n",
      " |-- GA: long (nullable = true)\n",
      " |-- IA: long (nullable = true)\n",
      " |-- IL: long (nullable = true)\n",
      " |-- IN: long (nullable = true)\n",
      " |-- KY: long (nullable = true)\n",
      " |-- LA: long (nullable = true)\n",
      " |-- MA: long (nullable = true)\n",
      " |-- MD: long (nullable = true)\n",
      " |-- MI: long (nullable = true)\n",
      " |-- MN: long (nullable = true)\n",
      " |-- MO: long (nullable = true)\n",
      " |-- MS: long (nullable = true)\n",
      " |-- MT: long (nullable = true)\n",
      " |-- NC: long (nullable = true)\n",
      " |-- NE: long (nullable = true)\n",
      " |-- NH: long (nullable = true)\n",
      " |-- NJ: long (nullable = true)\n",
      " |-- NV: long (nullable = true)\n",
      " |-- NY: long (nullable = true)\n",
      " |-- OH: long (nullable = true)\n",
      " |-- OK: long (nullable = true)\n",
      " |-- OR: long (nullable = true)\n",
      " |-- PA: long (nullable = true)\n",
      " |-- RI: long (nullable = true)\n",
      " |-- SC: long (nullable = true)\n",
      " |-- TN: long (nullable = true)\n",
      " |-- TX: long (nullable = true)\n",
      " |-- UT: long (nullable = true)\n",
      " |-- VA: long (nullable = true)\n",
      " |-- WA: long (nullable = true)\n",
      " |-- WI: long (nullable = true)\n",
      " |-- WV: long (nullable = true)\n",
      " |-- page_about: long (nullable = true)\n",
      " |-- page_add_friend: long (nullable = true)\n",
      " |-- page_add_to_playlist: long (nullable = true)\n",
      " |-- page_downgrade: long (nullable = true)\n",
      " |-- page_error: long (nullable = true)\n",
      " |-- page_help: long (nullable = true)\n",
      " |-- page_home: long (nullable = true)\n",
      " |-- page_logout: long (nullable = true)\n",
      " |-- page_nextsong: long (nullable = true)\n",
      " |-- page_roll_advert: long (nullable = true)\n",
      " |-- page_save_settings: long (nullable = true)\n",
      " |-- page_settings: long (nullable = true)\n",
      " |-- page_submit_downgrade: long (nullable = true)\n",
      " |-- page_submit_upgrade: long (nullable = true)\n",
      " |-- page_thumbs_down: long (nullable = true)\n",
      " |-- page_thumbs_up: long (nullable = true)\n",
      " |-- page_upgrade: long (nullable = true)\n",
      " |-- time_since_reg: long (nullable = true)\n",
      " |-- sessions: long (nullable = false)\n",
      " |-- songs: long (nullable = false)\n",
      " |-- Macintosh: long (nullable = true)\n",
      " |-- Windows: long (nullable = true)\n",
      " |-- X11: long (nullable = true)\n",
      " |-- compatible: long (nullable = true)\n",
      " |-- iPad: long (nullable = true)\n",
      " |-- iPhone: long (nullable = true)\n",
      "\n"
     ]
    }
   ],
   "source": [
    "df.printSchema()"
   ]
  },
  {
   "cell_type": "markdown",
   "metadata": {},
   "source": [
    "### Check for Multicollinearity"
   ]
  },
  {
   "cell_type": "markdown",
   "metadata": {},
   "source": [
    "Check, if a feature is correlated to other features and removal of highly correlated features."
   ]
  },
  {
   "cell_type": "code",
   "execution_count": 52,
   "metadata": {},
   "outputs": [],
   "source": [
    "# Convert df to Pandas df\n",
    "df_pd = df.toPandas()"
   ]
  },
  {
   "cell_type": "code",
   "execution_count": 53,
   "metadata": {},
   "outputs": [
    {
     "data": {
      "text/plain": [
       "['length',\n",
       " 'MA',\n",
       " 'page_about',\n",
       " 'page_add_friend',\n",
       " 'page_add_to_playlist',\n",
       " 'page_downgrade',\n",
       " 'page_error',\n",
       " 'page_help',\n",
       " 'page_home',\n",
       " 'page_logout',\n",
       " 'page_nextsong',\n",
       " 'page_roll_advert',\n",
       " 'page_save_settings',\n",
       " 'page_settings',\n",
       " 'page_submit_downgrade',\n",
       " 'page_submit_upgrade',\n",
       " 'page_thumbs_down',\n",
       " 'page_thumbs_up',\n",
       " 'page_upgrade',\n",
       " 'sessions',\n",
       " 'songs',\n",
       " 'Macintosh',\n",
       " 'Windows',\n",
       " 'iPad']"
      ]
     },
     "execution_count": 53,
     "metadata": {},
     "output_type": "execute_result"
    }
   ],
   "source": [
    "# Correlation matrix\n",
    "correlation_matrix = df_pd.corr('pearson')\n",
    "\n",
    "# Too many features to visualize the matrix, so iterate rows and drop highly correlated rows\n",
    "correlated_columns = []\n",
    "for column in correlation_matrix.columns:\n",
    "    correlated = correlation_matrix.drop(column, axis=0).loc[correlation_matrix[column].abs()>=0.5].index.tolist()\n",
    "    if len(correlated) > 0:\n",
    "        correlated_columns.append(column)  \n",
    "        \n",
    "# Show corelated columns\n",
    "correlated_columns"
   ]
  },
  {
   "cell_type": "code",
   "execution_count": 54,
   "metadata": {},
   "outputs": [
    {
     "name": "stdout",
     "output_type": "stream",
     "text": [
      "1. length\n",
      "2. page_add_friend\n",
      "3. page_add_to_playlist\n",
      "4. page_downgrade\n",
      "5. page_help\n",
      "6. page_home\n",
      "7. page_logout\n",
      "8. page_nextsong\n",
      "9. page_settings\n",
      "10. page_thumbs_down\n",
      "11. page_thumbs_up\n",
      "12. sessions\n",
      "13. songs\n",
      "\n",
      "13 highly correlated features (Pearson Correlation Coeffitient larger than 0.85) to drop.\n"
     ]
    }
   ],
   "source": [
    "# Identify features that higly correlate with any other feature\n",
    "max_corr = 0.85 # Set parameter for maximum permitted pearson correlation coefficient\n",
    "\n",
    "# Loop over columns\n",
    "highly_correlated_columns = []\n",
    "counter = 0\n",
    "for column in correlated_columns:\n",
    "    if (column != 'churn') & (correlation_matrix[column].drop(column).max() > max_corr):\n",
    "        counter += 1\n",
    "        print(str(counter) + '. ' + str(column))\n",
    "        highly_correlated_columns.append(column)     \n",
    "        \n",
    "print('\\n{} highly correlated features (Pearson Correlation Coeffitient larger than {}) to drop.'.format(counter,max_corr))"
   ]
  },
  {
   "cell_type": "code",
   "execution_count": 55,
   "metadata": {},
   "outputs": [
    {
     "data": {
      "image/png": "[encoded data removed]",
      "text/plain": [
       "<matplotlib.figure.Figure at 0x7f6a5fabff28>"
      ]
     },
     "metadata": {
      "needs_background": "light"
     },
     "output_type": "display_data"
    }
   ],
   "source": [
    "# Inspect highly correlated features\n",
    "correlation_matrix_sub = df_pd[highly_correlated_columns].corr('pearson')\n",
    "\n",
    "# Plot correlation matrix\n",
    "ax = plt.subplots(figsize=(7, 7))\n",
    "ax = sns.heatmap(correlation_matrix_sub, annot = True, fmt = '.2f', cbar=False)  \n",
    "plt.show()"
   ]
  },
  {
   "cell_type": "code",
   "execution_count": 56,
   "metadata": {},
   "outputs": [],
   "source": [
    "# Drop features that higly correlate with any other feature\n",
    "df_pd.drop(highly_correlated_columns, axis=1, inplace=True)"
   ]
  },
  {
   "cell_type": "code",
   "execution_count": 57,
   "metadata": {},
   "outputs": [
    {
     "name": "stdout",
     "output_type": "stream",
     "text": [
      "['userId', 'churn', 'avg_session_duration', 'gender', 'level', 'AK', 'AL', 'AR', 'AZ', 'CA', 'CO', 'CT', 'DC', 'FL', 'GA', 'IA', 'IL', 'IN', 'KY', 'LA', 'MA', 'MD', 'MI', 'MN', 'MO', 'MS', 'MT', 'NC', 'NE', 'NH', 'NJ', 'NV', 'NY', 'OH', 'OK', 'OR', 'PA', 'RI', 'SC', 'TN', 'TX', 'UT', 'VA', 'WA', 'WI', 'WV', 'page_about', 'page_error', 'page_roll_advert', 'page_save_settings', 'page_submit_downgrade', 'page_submit_upgrade', 'page_upgrade', 'time_since_reg', 'Macintosh', 'Windows', 'X11', 'compatible', 'iPad', 'iPhone']\n"
     ]
    }
   ],
   "source": [
    "# Store names of features to keep for further analysis\n",
    "features_to_keep = list(df_pd.columns)\n",
    "print(features_to_keep)"
   ]
  },
  {
   "cell_type": "code",
   "execution_count": 58,
   "metadata": {},
   "outputs": [
    {
     "data": {
      "text/plain": [
       "Index(['userId', 'churn', 'avg_session_duration', 'gender', 'level', 'AK',\n",
       "       'AL', 'AR', 'AZ', 'CA', 'CO', 'CT', 'DC', 'FL', 'GA', 'IA', 'IL', 'IN',\n",
       "       'KY', 'LA', 'MA', 'MD', 'MI', 'MN', 'MO', 'MS', 'MT', 'NC', 'NE', 'NH',\n",
       "       'NJ', 'NV', 'NY', 'OH', 'OK', 'OR', 'PA', 'RI', 'SC', 'TN', 'TX', 'UT',\n",
       "       'VA', 'WA', 'WI', 'WV', 'page_about', 'page_error', 'page_roll_advert',\n",
       "       'page_save_settings', 'page_submit_downgrade', 'page_submit_upgrade',\n",
       "       'page_upgrade', 'time_since_reg', 'Macintosh', 'Windows', 'X11',\n",
       "       'compatible', 'iPad', 'iPhone'],\n",
       "      dtype='object')"
      ]
     },
     "execution_count": 58,
     "metadata": {},
     "output_type": "execute_result"
    }
   ],
   "source": [
    "# Select features to keep for further analysis from raw data and build a new Spark dataframe\n",
    "df = df.select(features_to_keep)\n",
    "\n",
    "# Convert to pandas\n",
    "df_pd = df.toPandas()\n",
    "\n",
    "# Print columns\n",
    "df_pd.columns"
   ]
  },
  {
   "cell_type": "code",
   "execution_count": 59,
   "metadata": {},
   "outputs": [
    {
     "name": "stdout",
     "output_type": "stream",
     "text": [
      "Number of missing values: 0\n"
     ]
    }
   ],
   "source": [
    "# Check for missing values\n",
    "missings = df_pd.isnull().sum().sum()\n",
    "print('Number of missing values: {}'.format(missings))"
   ]
  },
  {
   "cell_type": "markdown",
   "metadata": {},
   "source": [
    "### Feature Scaling"
   ]
  },
  {
   "cell_type": "markdown",
   "metadata": {},
   "source": [
    "The range of values in a feature should reflect their importance. Higher values imply higher importances. Some features might have larger values than others and are required to be transformed for equal importance. Rule of thumb I follow here is any algorithm that computes distances or assumes normality, feature scaling is required. Below I show two common methods for this so-called step of \"feature scaling\": 1.) Normalization and 2.) Standardization."
   ]
  },
  {
   "cell_type": "markdown",
   "metadata": {},
   "source": [
    "#### 1. Normalization"
   ]
  },
  {
   "cell_type": "markdown",
   "metadata": {},
   "source": [
    "Normalize numerical features to range [0,1] e.g. via min-max normalization: \n",
    "Normalised Value = (Value - Feature Min)/(Feature Max - Feature Min)"
   ]
  },
  {
   "cell_type": "markdown",
   "metadata": {},
   "source": [
    "#### 2. Standardization"
   ]
  },
  {
   "cell_type": "markdown",
   "metadata": {},
   "source": [
    "The Central Limit Theorem guarantees that the average of independent random variables is approximately normally distributed even when the individual random variables are not normally distributed. By standardization you ensure the values in a feature follow the normal distribution whereby mean of the values is 0 and standard deviation is 1. Standarderised Value = (Value - Feature Mean)/Feature Standard Deviation"
   ]
  },
  {
   "cell_type": "markdown",
   "metadata": {},
   "source": [
    "Let's take a look on the distribution of all numerical, non-binary features:"
   ]
  },
  {
   "cell_type": "code",
   "execution_count": 60,
   "metadata": {},
   "outputs": [],
   "source": [
    "# Distribution of all numerical, non-binary features\n",
    "num_features = ['avg_session_duration', 'page_about', 'page_error', 'page_roll_advert', 'page_save_settings', \n",
    "                'page_submit_downgrade', 'page_submit_upgrade', 'page_upgrade', 'time_since_reg']"
   ]
  },
  {
   "cell_type": "code",
   "execution_count": 61,
   "metadata": {},
   "outputs": [
    {
     "data": {
      "image/png": "[encoded data removed]",
      "text/plain": [
       "<matplotlib.figure.Figure at 0x7f6a5fb5aac8>"
      ]
     },
     "metadata": {
      "needs_background": "light"
     },
     "output_type": "display_data"
    }
   ],
   "source": [
    "df_pd[num_features].hist(figsize=(15,15))\n",
    "plt.show()"
   ]
  },
  {
   "cell_type": "markdown",
   "metadata": {},
   "source": [
    "Most of the numerical features are skewed. I decide to perform a feature standardization so that they are closer to normal distribution. \n",
    "To implement any of the options to do feature transformations in Spark to standardize or normalize the data, we need to assemble the features into a feature vector. This is done by Spark's Vector Assembler:"
   ]
  },
  {
   "cell_type": "code",
   "execution_count": 62,
   "metadata": {},
   "outputs": [],
   "source": [
    "# Vectorize features\n",
    "assembler = VectorAssembler(inputCols=num_features, outputCol='FeatureVector')\n",
    "df_assembled = assembler.transform(df)"
   ]
  },
  {
   "cell_type": "code",
   "execution_count": 63,
   "metadata": {},
   "outputs": [],
   "source": [
    "# Standardize features\n",
    "scaler = StandardScaler(inputCol='FeatureVector', outputCol='ScaledNumFeatures', withStd=True)\n",
    "scalerModel = scaler.fit(df_assembled)\n",
    "df_scaled = scalerModel.transform(df_assembled)"
   ]
  },
  {
   "cell_type": "code",
   "execution_count": 64,
   "metadata": {},
   "outputs": [
    {
     "data": {
      "text/plain": [
       "Row(userId='100010', churn=0, avg_session_duration=1541741825357.1428, gender=0, level=0, AK=0, AL=0, AR=0, AZ=0, CA=0, CO=0, CT=1, DC=0, FL=0, GA=0, IA=0, IL=0, IN=0, KY=0, LA=0, MA=0, MD=0, MI=0, MN=0, MO=0, MS=0, MT=0, NC=0, NE=0, NH=0, NJ=0, NV=0, NY=0, OH=0, OK=0, OR=0, PA=0, RI=0, SC=0, TN=0, TX=0, UT=0, VA=0, WA=0, WI=0, WV=0, page_about=1, page_error=0, page_roll_advert=52, page_save_settings=0, page_submit_downgrade=0, page_submit_upgrade=0, page_upgrade=2, time_since_reg=4807612000, Macintosh=0, Windows=0, X11=0, compatible=0, iPad=0, iPhone=1, FeatureVector=DenseVector([1.5417, 1.0, 0.0, 52.0, 0.0, 0.0, 0.0, 2.0, 4807612000.0]), ScaledNumFeatures=DenseVector([993.3444, 0.1828, 0.0, 1.549, 0.0, 0.0, 0.0, 0.5215, 1.4762]))"
      ]
     },
     "execution_count": 64,
     "metadata": {},
     "output_type": "execute_result"
    }
   ],
   "source": [
    "df_scaled.head()"
   ]
  },
  {
   "cell_type": "markdown",
   "metadata": {},
   "source": [
    "Subsequent remark: In the modeling part I have seen that it's more practical to use Min-Max Normalization instead of standardization, beacuase the dataset contains numerical and dummy variables."
   ]
  },
  {
   "cell_type": "markdown",
   "metadata": {},
   "source": [
    "# Modeling"
   ]
  },
  {
   "cell_type": "markdown",
   "metadata": {},
   "source": [
    "### Train-Test Split"
   ]
  },
  {
   "cell_type": "code",
   "execution_count": 65,
   "metadata": {},
   "outputs": [],
   "source": [
    "# Train-test-validation split\n",
    "train_set, rest = df_scaled.drop('userId').randomSplit([0.8, 0.2], seed=42)\n",
    "validation_set, test_set = rest.randomSplit([0.1,0.1], seed=42)"
   ]
  },
  {
   "cell_type": "markdown",
   "metadata": {},
   "source": [
    "### Metrics"
   ]
  },
  {
   "cell_type": "markdown",
   "metadata": {},
   "source": [
    "Due to the fact that our dataset is imbalanced (23% churn, 77% non-churn), using accuracy as metric would be missleading. Instead I will use F1 score as evaluation metric.\n",
    "It considers both the precision p and the recall r to compute the score: p is the number of correct positive results divided by the number of all positive results returned by the classifier, and r is the number of correct positive results divided by the number of all relevant samples (all samples that should have been identified as positive). The F1 score is the harmonic average of the precision and recall, where an F1 score reaches its best value at 1 (perfect precision and recall) and worst at 0.\n",
    "\n",
    "source: https://en.wikipedia.org/wiki/F1_score"
   ]
  },
  {
   "cell_type": "markdown",
   "metadata": {},
   "source": [
    "### Functions & Machine Learning Pipeline"
   ]
  },
  {
   "cell_type": "markdown",
   "metadata": {},
   "source": [
    "At next I will train a couple of classification algorithms on the training data, test their prediction performance on the test data and chose the best performing one for my Spark implementation. I will try out the following classification algrithms: Decision Tree, Random Forest, Gradient Boosting and Logistic Regression. I will build a pipeline containing the following steps:\n",
    "\n",
    "- Load Data\n",
    "- Create Features\n",
    "- Feature Scaling\n",
    "- Train-Test Split\n",
    "- Cross Validation \n",
    "- Training of Machine Learning Model \n",
    "- Evaluation of Prediction Performance"
   ]
  },
  {
   "cell_type": "code",
   "execution_count": 66,
   "metadata": {},
   "outputs": [],
   "source": [
    "def load_data(path):\n",
    "    '''\n",
    "    Load a data set that is stored under a given path. Rows with missing ids will be removed.\n",
    "    \n",
    "    INPUT\n",
    "    - path: Path where the data is stored\n",
    "    \n",
    "    OUTPUT\n",
    "    - df: Dataframe\n",
    "    '''\n",
    "    \n",
    "    # Load small subset for feature engineering\n",
    "    df = spark.read.json(path)\n",
    "\n",
    "    # Drop rows with missing user id\n",
    "    df = df.where(df.userId != '')\n",
    "    \n",
    "    return df"
   ]
  },
  {
   "cell_type": "code",
   "execution_count": 67,
   "metadata": {},
   "outputs": [],
   "source": [
    "def feature_creation(df):\n",
    "    '''\n",
    "    The following Features will be creted at user level:\n",
    "\n",
    "    1.  avg_session_duration: average session duration [float]\n",
    "    2.  churn: \"1\" for a page cancellation confirmation (defined as churn), \"0\" for absence of churn [binary]\n",
    "    3.  gender: \"1\" for male, \"0\" for female [binary]\n",
    "    4.  length: total length of songs listened [float]\n",
    "    5.  level: latest level of a user. \"1\" for paid, \"0\" for free [binary]\n",
    "    6.  location: location of the user [binary]\n",
    "    7.  page: number visits per page [int]\n",
    "    8.  time_since_reg: time since registration [int]\n",
    "    9.  sessions: total number of sessions [int]\n",
    "    10. songs: total number of songs listend [int]\n",
    "    11. userAgent: agents used by the user [binary]\n",
    "    \n",
    "    Afterwards, all features are joined, checked for multicollinearity and strongly correlating features will be removed.\n",
    "    \n",
    "    INPUT\n",
    "    - path: Path where the data is stored\n",
    "    \n",
    "    OUTPUT\n",
    "    - df: Dataframe\n",
    "    '''\n",
    "    \n",
    "    # 1.  avg_session_duration\n",
    "    avg_session_duration = df.select(['userId','sessionId','ts']).groupby(['userId','sessionId'])\\\n",
    "                                     .agg(avg('ts').alias('avg_session_duration'))\n",
    "    avg_session_duration = avg_session_duration.drop('sessionId')\n",
    "\n",
    "    # 2.  churn\n",
    "    get_churn = udf(lambda x: 1 if x == 'Cancellation Confirmation' else 0, IntegerType())\n",
    "    churn = df.withColumn('churn', get_churn('page')).select(['userId','churn'])\\\n",
    "                          .groupby('userId').agg(max('churn').alias('churn'))\n",
    "\n",
    "    # 3.  gender\n",
    "    get_gender = udf(lambda x: 1 if x == 'M' else 0, IntegerType())\n",
    "    gender = df.withColumn('gender', get_gender('gender')).select(['userId','gender'])\\\n",
    "                           .groupby('userId').agg(max('gender').alias('gender'))\n",
    "\n",
    "    \n",
    "    # 4.  length\n",
    "    length = df.select(['userId','length']).groupby('userId').agg(sum('length').alias('length'))\n",
    "    \n",
    "    # 5.  level\n",
    "    get_level = udf(lambda x: 1 if x == 'paid' else 0, IntegerType())\n",
    "    level = df.select(['userId', 'level', 'ts']).orderBy(desc('ts')).dropDuplicates(['userId']).select(['userId', 'level'])\\\n",
    "                      .withColumn('level', get_level('level').cast(IntegerType()))\n",
    "    \n",
    "    # 6.  location\n",
    "    get_location = udf(lambda x: x.split(', ')[1].split('-')[0])\n",
    "    get_location_name = udf(lambda x: \"location_\"+x.replace(\" \", \"_\").lower())\n",
    "    location = df.withColumn('location', get_location(df['location'])).select(['userId', 'location'])\\\n",
    "                             .dropDuplicates(['userId']).groupBy('userId').pivot('location').agg(count('location')).fillna(0)\n",
    "    \n",
    "    # 7.  page\n",
    "    get_page = udf(lambda x: 'page_' + x.replace(' ', '_').lower())\n",
    "    exclude_page = ['Cancel', 'Cancellation Confirmation']\n",
    "    page = df.filter(~df['page'].isin(exclude_page)).withColumn('page', get_page(df['page']))\\\n",
    "                     .groupBy(['userId']).pivot('page').agg(count('page')).fillna(0)\n",
    "    \n",
    "    # 8.  time_since_reg\n",
    "    df_reg_ts = df.select(['userId','registration']).groupby('userId').agg(min('registration').alias('reg_ts'))\n",
    "    df_max_ts = df.select(['userId','ts']).groupby('userId').agg(max('ts').alias('max_ts'))\n",
    "    time_since_reg = df_max_ts.join(df_reg_ts, on=['userId'])\n",
    "    time_since_reg = time_since_reg.withColumn('time_since_reg', expr('max_ts - reg_ts'))\n",
    "    time_since_reg = time_since_reg.drop('max_ts')\n",
    "    time_since_reg = time_since_reg.drop('reg_ts')\n",
    "    \n",
    "    # 9.  sessions\n",
    "    sessions = df.select(['userId','sessionId']).dropDuplicates().groupby('userId').agg(count('sessionId').alias('sessions'))\n",
    "    \n",
    "    # 10. songs\n",
    "    songs = df.select(['userId','song']).groupby('userId').agg(count('song').alias('songs'))\n",
    "    \n",
    "    # 11. userAgent\n",
    "    get_agent = udf(lambda x: x.split('(')[1].replace(\";\", \" \").split(\" \")[0])\n",
    "    userAgent = df.withColumn('userAgent', get_agent(df['userAgent'])).select(['userId', 'userAgent'])\\\n",
    "                              .dropDuplicates(['userId']).groupBy('userId').pivot('userAgent').agg(count('userAgent')).fillna(0)\n",
    "    \n",
    "    # Bringing all together\n",
    "    df = churn.join(avg_session_duration, ['userId'])\\\n",
    "          .join(gender, ['userId'])\\\n",
    "          .join(length, ['userId'])\\\n",
    "          .join(level, ['userId'])\\\n",
    "          .join(location, ['userId'])\\\n",
    "          .join(page, ['userId'])\\\n",
    "          .join(time_since_reg, ['userId'])\\\n",
    "          .join(sessions, ['userId'])\\\n",
    "          .join(songs, ['userId'])\\\n",
    "          .join(userAgent, ['userId'])\n",
    "    \n",
    "    # Check for multicollinearity\n",
    "    df_pd = df.toPandas()\n",
    "    correlation_matrix = df_pd.corr('pearson') # Correlation matrix   \n",
    "    correlated_columns = []\n",
    "    for column in correlation_matrix.columns: # Iterate rows and drop highly correlated rows\n",
    "        correlated = correlation_matrix.drop(column, axis=0).loc[correlation_matrix[column].abs()>=0.5].index.tolist()\n",
    "        if len(correlated) > 0:\n",
    "            correlated_columns.append(column)  \n",
    "            \n",
    "    # Drop features that higly correlate with any other feature\n",
    "    df_pd.drop(highly_correlated_columns, axis=1, inplace=True)\n",
    "    features_to_keep = list(df_pd.columns)\n",
    "    df = df.select(features_to_keep)\n",
    "    \n",
    "    # Check for missing values\n",
    "    df_pd = df.toPandas()\n",
    "    missings = df_pd.isnull().sum().sum()\n",
    "    print('Number of missing values: {}'.format(missings))\n",
    "    \n",
    "    return df"
   ]
  },
  {
   "cell_type": "code",
   "execution_count": 68,
   "metadata": {},
   "outputs": [],
   "source": [
    "def feature_scaling(df):\n",
    "    '''\n",
    "    Perform feature standardization on a set of given data to ensure the values in a feature follow the \n",
    "    normal distribution whereby mean of the values is 0 and standard deviation is 1. \n",
    "    \n",
    "    INPUT\n",
    "    - df: PySpark Dataframe\n",
    "    \n",
    "    OUTPUT\n",
    "    - scaled_df: PySpark Dataframe with standardized features\n",
    "    '''\n",
    "    \n",
    "    # Get features without ids and labels\n",
    "    feature_cols = df.drop('userId', 'churn').columns\n",
    "    print(str(len(feature_cols)) + ' Features for Scaling:\\n')\n",
    "    print(feature_cols)\n",
    "\n",
    "    # Vector assembler\n",
    "    assembler = VectorAssembler(inputCols=feature_cols, outputCol='FeatureVector')\n",
    "    \n",
    "    # PySpark.ML expects the target column to be named as 'labelCol' af data type double\n",
    "    df = df.withColumn('label', df['churn'].cast('float')).drop('churn')\n",
    "    \n",
    "    # Feature scaler    \n",
    "    #scaler = StandardScaler(inputCol='FeatureVector', outputCol='ScaledFeatures', withStd=True)\n",
    "    scaler = MinMaxScaler(inputCol='FeatureVector', outputCol='ScaledFeatures')\n",
    "    \n",
    "    # Perform assembling and standardizing of features\n",
    "    df = assembler.transform(df)\n",
    "    scalerModel = scaler.fit(df)\n",
    "    scaled_df = scalerModel.transform(df)\n",
    "    \n",
    "    # Visulize example row\n",
    "    print('\\nExample row of scaled features:\\n')\n",
    "    print(scaled_df.head(1))\n",
    "    \n",
    "    # Just take scaled feature vector and labels\n",
    "    scaled_df = scaled_df.select('ScaledFeatures', 'label')\n",
    "    print('\\nReduced to scaled feature vector and labels:\\n')\n",
    "    print(scaled_df.printSchema())\n",
    "    print(scaled_df.head(1))\n",
    "    \n",
    "    return scaled_df"
   ]
  },
  {
   "cell_type": "code",
   "execution_count": 69,
   "metadata": {},
   "outputs": [
    {
     "name": "stdout",
     "output_type": "stream",
     "text": [
      "58 Features for Scaling:\n",
      "\n",
      "['avg_session_duration', 'gender', 'level', 'AK', 'AL', 'AR', 'AZ', 'CA', 'CO', 'CT', 'DC', 'FL', 'GA', 'IA', 'IL', 'IN', 'KY', 'LA', 'MA', 'MD', 'MI', 'MN', 'MO', 'MS', 'MT', 'NC', 'NE', 'NH', 'NJ', 'NV', 'NY', 'OH', 'OK', 'OR', 'PA', 'RI', 'SC', 'TN', 'TX', 'UT', 'VA', 'WA', 'WI', 'WV', 'page_about', 'page_error', 'page_roll_advert', 'page_save_settings', 'page_submit_downgrade', 'page_submit_upgrade', 'page_upgrade', 'time_since_reg', 'Macintosh', 'Windows', 'X11', 'compatible', 'iPad', 'iPhone']\n",
      "\n",
      "Example row of scaled features:\n",
      "\n",
      "[Row(userId='100010', avg_session_duration=1541741825357.1428, gender=0, level=0, AK=0, AL=0, AR=0, AZ=0, CA=0, CO=0, CT=1, DC=0, FL=0, GA=0, IA=0, IL=0, IN=0, KY=0, LA=0, MA=0, MD=0, MI=0, MN=0, MO=0, MS=0, MT=0, NC=0, NE=0, NH=0, NJ=0, NV=0, NY=0, OH=0, OK=0, OR=0, PA=0, RI=0, SC=0, TN=0, TX=0, UT=0, VA=0, WA=0, WI=0, WV=0, page_about=1, page_error=0, page_roll_advert=52, page_save_settings=0, page_submit_downgrade=0, page_submit_upgrade=0, page_upgrade=2, time_since_reg=4807612000, Macintosh=0, Windows=0, X11=0, compatible=0, iPad=0, iPhone=1, label=0.0, FeatureVector=SparseVector(58, {0: 1.5417, 9: 1.0, 44: 1.0, 46: 52.0, 50: 2.0, 51: 4807612000.0, 57: 1.0}), ScaledFeatures=DenseVector([0.6221, 0.0, 0.0, 0.0, 0.0, 0.0, 0.0, 0.0, 0.0, 1.0, 0.0, 0.0, 0.0, 0.0, 0.0, 0.0, 0.0, 0.0, 0.0, 0.0, 0.0, 0.0, 0.0, 0.0, 0.0, 0.0, 0.0, 0.0, 0.0, 0.0, 0.0, 0.0, 0.0, 0.0, 0.0, 0.0, 0.0, 0.0, 0.0, 0.0, 0.0, 0.0, 0.0, 0.0, 0.04, 0.0, 0.4062, 0.0, 0.0, 0.0, 0.1333, 0.2161, 0.0, 0.0, 0.0, 0.0, 0.0, 1.0]))]\n",
      "\n",
      "Reduced to scaled feature vector and labels:\n",
      "\n",
      "root\n",
      " |-- ScaledFeatures: vector (nullable = true)\n",
      " |-- label: float (nullable = true)\n",
      "\n",
      "None\n",
      "[Row(ScaledFeatures=DenseVector([0.6221, 0.0, 0.0, 0.0, 0.0, 0.0, 0.0, 0.0, 0.0, 1.0, 0.0, 0.0, 0.0, 0.0, 0.0, 0.0, 0.0, 0.0, 0.0, 0.0, 0.0, 0.0, 0.0, 0.0, 0.0, 0.0, 0.0, 0.0, 0.0, 0.0, 0.0, 0.0, 0.0, 0.0, 0.0, 0.0, 0.0, 0.0, 0.0, 0.0, 0.0, 0.0, 0.0, 0.0, 0.04, 0.0, 0.4062, 0.0, 0.0, 0.0, 0.1333, 0.2161, 0.0, 0.0, 0.0, 0.0, 0.0, 1.0]), label=0.0)]\n"
     ]
    }
   ],
   "source": [
    "# Testing of feature scaling function\n",
    "test_df = feature_scaling(df)"
   ]
  },
  {
   "cell_type": "code",
   "execution_count": 70,
   "metadata": {},
   "outputs": [],
   "source": [
    "def train_test_split(scaled_df):\n",
    "    '''\n",
    "    Split the data into training set and test set. \n",
    "    \n",
    "    INPUT\n",
    "    - df: Scaled PySpark Dataframe\n",
    "    \n",
    "    OUTPUT\n",
    "    - train_set: training set\n",
    "    - test_set: test set\n",
    "    '''\n",
    "    \n",
    "    # Train-test-validation split\n",
    "    train_set, test_set = scaled_df.drop('userId').randomSplit([0.8, 0.2], seed=42)\n",
    "    \n",
    "    return train_set, test_set"
   ]
  },
  {
   "cell_type": "code",
   "execution_count": 72,
   "metadata": {},
   "outputs": [
    {
     "name": "stdout",
     "output_type": "stream",
     "text": [
      "Visualization of one train set row:\n",
      "\n",
      "[Row(ScaledFeatures=DenseVector([0.0072, 1.0, 1.0, 0.0, 0.0, 0.0, 0.0, 0.0, 0.0, 0.0, 0.0, 0.0, 0.0, 0.0, 1.0, 0.0, 0.0, 0.0, 0.0, 0.0, 0.0, 0.0, 0.0, 0.0, 0.0, 0.0, 0.0, 0.0, 0.0, 0.0, 0.0, 0.0, 0.0, 0.0, 0.0, 0.0, 0.0, 0.0, 0.0, 0.0, 0.0, 0.0, 0.0, 0.0, 0.12, 0.0, 0.0547, 0.0, 0.0, 0.25, 0.1333, 0.2724, 0.0, 0.0, 0.0, 0.0, 0.0, 1.0]), label=0.0)]\n",
      "\n",
      "--------------------------------\n",
      "Size of whole data set: 3176\n",
      "--------------------------------\n",
      "Size of train set: 2533\n",
      "Size of test set: 643\n",
      "--------------------------------\n"
     ]
    }
   ],
   "source": [
    "# Testing of train-test split function\n",
    "train_set, test_set = train_test_split(test_df)\n",
    "print('Visualization of one train set row:\\n')\n",
    "print(train_set.head(1))\n",
    "\n",
    "print('\\n--------------------------------')\n",
    "print('Size of whole data set: ' + str(test_df.count()))\n",
    "print('--------------------------------')\n",
    "print('Size of train set: ' + str(train_set.count()))\n",
    "print('Size of test set: ' + str(test_set.count()))\n",
    "print('--------------------------------')"
   ]
  },
  {
   "cell_type": "code",
   "execution_count": 73,
   "metadata": {},
   "outputs": [],
   "source": [
    "def cross_validation(classifier, parameter_grid):\n",
    "    '''\n",
    "    Performs Cross validation \n",
    "    Cross validation is a technique for estimating the performance of a predictive model\n",
    "    \n",
    "    INPUT\n",
    "    - classifier: untrained classifier\n",
    "    - parameter_grid: a grid of parameters\n",
    "    \n",
    "    OUTPUT\n",
    "    - crossval: cross validator\n",
    "    '''\n",
    "\n",
    "    crossval = CrossValidator(estimator = classifier,\n",
    "                              estimatorParamMaps = parameter_grid,\n",
    "                              evaluator = MulticlassClassificationEvaluator(metricName='f1'),\n",
    "                              numFolds = 3)\n",
    "    \n",
    "    return crossval"
   ]
  },
  {
   "cell_type": "code",
   "execution_count": 74,
   "metadata": {},
   "outputs": [],
   "source": [
    "def train_model(classifier, train_set, parameter_grid):\n",
    "    '''\n",
    "    Training of classification model\n",
    "    \n",
    "    INPUT\n",
    "    - classifier: untrained classifier\n",
    "    - train_set: training data\n",
    "    - parameter_grid: a grid of parameters\n",
    "    \n",
    "    OUTPUT\n",
    "    - model: trained classifier\n",
    "    '''\n",
    "    \n",
    "    # Cross validation\n",
    "    crossval = cross_validation(classifier, parameter_grid)\n",
    "    \n",
    "    # Train model\n",
    "    model = crossval.fit(train_set)\n",
    "    \n",
    "    return model"
   ]
  },
  {
   "cell_type": "code",
   "execution_count": 75,
   "metadata": {},
   "outputs": [],
   "source": [
    "def evaluate_model(classifier, data):\n",
    "    '''\n",
    "    Evaluation of trained classification model\n",
    "    \n",
    "    INPUT\n",
    "    - classifier: trained classifier\n",
    "    - data: evaluation data\n",
    "    \n",
    "    OUTPUT\n",
    "    - metrics : Disctionary of evaluation metrics\n",
    "    '''\n",
    "    \n",
    "    # Predict\n",
    "    predictions = classifier.transform(data)\n",
    "    \n",
    "    # Evaluator\n",
    "    evaluator = MulticlassClassificationEvaluator(predictionCol='prediction', labelCol='label')\n",
    "    \n",
    "    # Calculate metrics\n",
    "    metrics = {}\n",
    "    metrics['precision'] = evaluator.evaluate(predictions, {evaluator.metricName: 'weightedPrecision'})\n",
    "    metrics['recall'] = evaluator.evaluate(predictions, {evaluator.metricName: 'weightedRecall'})\n",
    "    metrics['f1'] = evaluator.evaluate(predictions, {evaluator.metricName: 'f1'})\n",
    "    metrics['accuracy'] = evaluator.evaluate(predictions, {evaluator.metricName: 'accuracy'})\n",
    "    metrics['confusion_matrix'] = predictions.groupby('label').pivot('prediction').count()\n",
    "    \n",
    "    return metrics"
   ]
  },
  {
   "cell_type": "code",
   "execution_count": 83,
   "metadata": {},
   "outputs": [],
   "source": [
    "def ml_pipeline(model, path):\n",
    "    '''\n",
    "    Machine Learning pipeline that brings all steps together: \n",
    "    1. Load data\n",
    "    2. Feature creation\n",
    "    3. Feature Scaling\n",
    "    4. Train-Test Split\n",
    "    5. Build model\n",
    "    6. Cross validation\n",
    "    7. Model training\n",
    "    8. Model evaluation\n",
    "    \n",
    "    INPUT\n",
    "    - model: classification model to build\n",
    "    - train_set: training data\n",
    "    - test_set: test data\n",
    "    \n",
    "    OUTPUT\n",
    "    - trained_classifier: trained model\n",
    "    '''\n",
    "    print('\\nModel: ' + model + '\\n')\n",
    "    \n",
    "    print('----------------------------')\n",
    "    print('1. Load Data')\n",
    "    print('----------------------------')\n",
    "    \n",
    "    df = load_data(path)\n",
    "    \n",
    "    print('----------------------------')\n",
    "    print('2. Feature Creation')\n",
    "    print('----------------------------')\n",
    "    \n",
    "    df = feature_creation(df)\n",
    "\n",
    "    print('----------------------------')\n",
    "    print('3. Feature Scaling')\n",
    "    print('----------------------------')\n",
    "    \n",
    "    scaled_df = feature_scaling(df)\n",
    "    \n",
    "    print('----------------------------')\n",
    "    print('4. Train-Test Split')\n",
    "    print('----------------------------')\n",
    "    \n",
    "    train_set, test_set = train_test_split(scaled_df)\n",
    "    \n",
    "    print('----------------------------')\n",
    "    print('5. Build model')\n",
    "    print('----------------------------')\n",
    "    \n",
    "    if model == 'Decision Tree':\n",
    "        classifier = DecisionTreeClassifier(labelCol='label', featuresCol='ScaledFeatures')\n",
    "        file_name = 'cv_dtree_cf.model'\n",
    "    if model == 'Random Forest':\n",
    "        classifier = RandomForestClassifier(labelCol='label', featuresCol='ScaledFeatures')\n",
    "        file_name = 'cv_randomforest_cf.model'\n",
    "    if model == 'Logistic Regression':\n",
    "        classifier = LogisticRegression(labelCol='label', featuresCol='ScaledFeatures')\n",
    "        file_name = 'cv_logreg_cf.model'\n",
    "    if model == 'Gradient Boosting':\n",
    "        classifier = GBTClassifier(labelCol='label', featuresCol='ScaledFeatures')\n",
    "        file_name = 'cv_gradientboo_cf.model'\n",
    "        \n",
    "    print('----------------------------')\n",
    "    print('6. & 7. Cross Val. & Training')\n",
    "    print('----------------------------')\n",
    "    \n",
    "    parameter_grid = ParamGridBuilder().build()\n",
    "    trained_classifier = train_model(classifier, train_set, parameter_grid)\n",
    "    \n",
    "    # Get best model\n",
    "    bestModel = trained_classifier.bestModel\n",
    "    \n",
    "    # Save trained model\n",
    "    bestModel.write().overwrite().save(file_name)\n",
    "    \n",
    "    print('----------------------------')\n",
    "    print('8. Model Evaluation')\n",
    "    print('----------------------------')\n",
    "    \n",
    "    metrics = evaluate_model(trained_classifier, test_set)\n",
    "    print(metrics)\n",
    "    \n",
    "    return trained_classifier"
   ]
  },
  {
   "cell_type": "code",
   "execution_count": 84,
   "metadata": {},
   "outputs": [
    {
     "name": "stdout",
     "output_type": "stream",
     "text": [
      "\n",
      "Model: Random Forest\n",
      "\n",
      "----------------------------\n",
      "1. Load Data\n",
      "----------------------------\n",
      "----------------------------\n",
      "2. Feature Creation\n",
      "----------------------------\n",
      "Number of missing values: 0\n",
      "----------------------------\n",
      "3. Feature Scaling\n",
      "----------------------------\n",
      "58 Features for Scaling:\n",
      "\n",
      "['avg_session_duration', 'gender', 'level', 'AK', 'AL', 'AR', 'AZ', 'CA', 'CO', 'CT', 'DC', 'FL', 'GA', 'IA', 'IL', 'IN', 'KY', 'LA', 'MA', 'MD', 'MI', 'MN', 'MO', 'MS', 'MT', 'NC', 'NE', 'NH', 'NJ', 'NV', 'NY', 'OH', 'OK', 'OR', 'PA', 'RI', 'SC', 'TN', 'TX', 'UT', 'VA', 'WA', 'WI', 'WV', 'page_about', 'page_error', 'page_roll_advert', 'page_save_settings', 'page_submit_downgrade', 'page_submit_upgrade', 'page_upgrade', 'time_since_reg', 'Macintosh', 'Windows', 'X11', 'compatible', 'iPad', 'iPhone']\n",
      "\n",
      "Example row of scaled features:\n",
      "\n",
      "[Row(userId='100010', avg_session_duration=1541741825357.1428, gender=0, level=0, AK=0, AL=0, AR=0, AZ=0, CA=0, CO=0, CT=1, DC=0, FL=0, GA=0, IA=0, IL=0, IN=0, KY=0, LA=0, MA=0, MD=0, MI=0, MN=0, MO=0, MS=0, MT=0, NC=0, NE=0, NH=0, NJ=0, NV=0, NY=0, OH=0, OK=0, OR=0, PA=0, RI=0, SC=0, TN=0, TX=0, UT=0, VA=0, WA=0, WI=0, WV=0, page_about=1, page_error=0, page_roll_advert=52, page_save_settings=0, page_submit_downgrade=0, page_submit_upgrade=0, page_upgrade=2, time_since_reg=4807612000, Macintosh=0, Windows=0, X11=0, compatible=0, iPad=0, iPhone=1, label=0.0, FeatureVector=SparseVector(58, {0: 1.5417, 9: 1.0, 44: 1.0, 46: 52.0, 50: 2.0, 51: 4807612000.0, 57: 1.0}), ScaledFeatures=DenseVector([0.6221, 0.0, 0.0, 0.0, 0.0, 0.0, 0.0, 0.0, 0.0, 1.0, 0.0, 0.0, 0.0, 0.0, 0.0, 0.0, 0.0, 0.0, 0.0, 0.0, 0.0, 0.0, 0.0, 0.0, 0.0, 0.0, 0.0, 0.0, 0.0, 0.0, 0.0, 0.0, 0.0, 0.0, 0.0, 0.0, 0.0, 0.0, 0.0, 0.0, 0.0, 0.0, 0.0, 0.0, 0.04, 0.0, 0.4062, 0.0, 0.0, 0.0, 0.1333, 0.2161, 0.0, 0.0, 0.0, 0.0, 0.0, 1.0]))]\n",
      "\n",
      "Reduced to scaled feature vector and labels:\n",
      "\n",
      "root\n",
      " |-- ScaledFeatures: vector (nullable = true)\n",
      " |-- label: float (nullable = true)\n",
      "\n",
      "None\n",
      "[Row(ScaledFeatures=DenseVector([0.6221, 0.0, 0.0, 0.0, 0.0, 0.0, 0.0, 0.0, 0.0, 1.0, 0.0, 0.0, 0.0, 0.0, 0.0, 0.0, 0.0, 0.0, 0.0, 0.0, 0.0, 0.0, 0.0, 0.0, 0.0, 0.0, 0.0, 0.0, 0.0, 0.0, 0.0, 0.0, 0.0, 0.0, 0.0, 0.0, 0.0, 0.0, 0.0, 0.0, 0.0, 0.0, 0.0, 0.0, 0.04, 0.0, 0.4062, 0.0, 0.0, 0.0, 0.1333, 0.2161, 0.0, 0.0, 0.0, 0.0, 0.0, 1.0]), label=0.0)]\n",
      "----------------------------\n",
      "4. Train-Test Split\n",
      "----------------------------\n",
      "----------------------------\n",
      "5. Build model\n",
      "----------------------------\n",
      "----------------------------\n",
      "6. & 7. Cross Val. & Training\n",
      "----------------------------\n",
      "----------------------------\n",
      "8. Model Evaluation\n",
      "----------------------------\n",
      "{'precision': 0.9285945668131178, 'recall': 0.9237947122861586, 'f1': 0.9146715928588788, 'accuracy': 0.9237947122861586, 'confusion_matrix': DataFrame[label: float, 0.0: bigint, 1.0: bigint]}\n"
     ]
    }
   ],
   "source": [
    "# 1. Model: Random Forest Classifier\n",
    "cv_randomforest_cf = ml_pipeline('Random Forest', 'mini_sparkify_event_data.json')"
   ]
  },
  {
   "cell_type": "code",
   "execution_count": 85,
   "metadata": {},
   "outputs": [
    {
     "name": "stdout",
     "output_type": "stream",
     "text": [
      "\n",
      "Model: Decision Tree\n",
      "\n",
      "----------------------------\n",
      "1. Load Data\n",
      "----------------------------\n",
      "----------------------------\n",
      "2. Feature Creation\n",
      "----------------------------\n",
      "Number of missing values: 0\n",
      "----------------------------\n",
      "3. Feature Scaling\n",
      "----------------------------\n",
      "58 Features for Scaling:\n",
      "\n",
      "['avg_session_duration', 'gender', 'level', 'AK', 'AL', 'AR', 'AZ', 'CA', 'CO', 'CT', 'DC', 'FL', 'GA', 'IA', 'IL', 'IN', 'KY', 'LA', 'MA', 'MD', 'MI', 'MN', 'MO', 'MS', 'MT', 'NC', 'NE', 'NH', 'NJ', 'NV', 'NY', 'OH', 'OK', 'OR', 'PA', 'RI', 'SC', 'TN', 'TX', 'UT', 'VA', 'WA', 'WI', 'WV', 'page_about', 'page_error', 'page_roll_advert', 'page_save_settings', 'page_submit_downgrade', 'page_submit_upgrade', 'page_upgrade', 'time_since_reg', 'Macintosh', 'Windows', 'X11', 'compatible', 'iPad', 'iPhone']\n",
      "\n",
      "Example row of scaled features:\n",
      "\n",
      "[Row(userId='100010', avg_session_duration=1541741825357.1428, gender=0, level=0, AK=0, AL=0, AR=0, AZ=0, CA=0, CO=0, CT=1, DC=0, FL=0, GA=0, IA=0, IL=0, IN=0, KY=0, LA=0, MA=0, MD=0, MI=0, MN=0, MO=0, MS=0, MT=0, NC=0, NE=0, NH=0, NJ=0, NV=0, NY=0, OH=0, OK=0, OR=0, PA=0, RI=0, SC=0, TN=0, TX=0, UT=0, VA=0, WA=0, WI=0, WV=0, page_about=1, page_error=0, page_roll_advert=52, page_save_settings=0, page_submit_downgrade=0, page_submit_upgrade=0, page_upgrade=2, time_since_reg=4807612000, Macintosh=0, Windows=0, X11=0, compatible=0, iPad=0, iPhone=1, label=0.0, FeatureVector=SparseVector(58, {0: 1.5417, 9: 1.0, 44: 1.0, 46: 52.0, 50: 2.0, 51: 4807612000.0, 57: 1.0}), ScaledFeatures=DenseVector([0.6221, 0.0, 0.0, 0.0, 0.0, 0.0, 0.0, 0.0, 0.0, 1.0, 0.0, 0.0, 0.0, 0.0, 0.0, 0.0, 0.0, 0.0, 0.0, 0.0, 0.0, 0.0, 0.0, 0.0, 0.0, 0.0, 0.0, 0.0, 0.0, 0.0, 0.0, 0.0, 0.0, 0.0, 0.0, 0.0, 0.0, 0.0, 0.0, 0.0, 0.0, 0.0, 0.0, 0.0, 0.04, 0.0, 0.4062, 0.0, 0.0, 0.0, 0.1333, 0.2161, 0.0, 0.0, 0.0, 0.0, 0.0, 1.0]))]\n",
      "\n",
      "Reduced to scaled feature vector and labels:\n",
      "\n",
      "root\n",
      " |-- ScaledFeatures: vector (nullable = true)\n",
      " |-- label: float (nullable = true)\n",
      "\n",
      "None\n",
      "[Row(ScaledFeatures=DenseVector([0.6221, 0.0, 0.0, 0.0, 0.0, 0.0, 0.0, 0.0, 0.0, 1.0, 0.0, 0.0, 0.0, 0.0, 0.0, 0.0, 0.0, 0.0, 0.0, 0.0, 0.0, 0.0, 0.0, 0.0, 0.0, 0.0, 0.0, 0.0, 0.0, 0.0, 0.0, 0.0, 0.0, 0.0, 0.0, 0.0, 0.0, 0.0, 0.0, 0.0, 0.0, 0.0, 0.0, 0.0, 0.04, 0.0, 0.4062, 0.0, 0.0, 0.0, 0.1333, 0.2161, 0.0, 0.0, 0.0, 0.0, 0.0, 1.0]), label=0.0)]\n",
      "----------------------------\n",
      "4. Train-Test Split\n",
      "----------------------------\n",
      "----------------------------\n",
      "5. Build model\n",
      "----------------------------\n",
      "----------------------------\n",
      "6. & 7. Cross Val. & Training\n",
      "----------------------------\n",
      "----------------------------\n",
      "8. Model Evaluation\n",
      "----------------------------\n",
      "{'precision': 0.9382916055169795, 'recall': 0.9377916018662519, 'f1': 0.9332243026880933, 'accuracy': 0.937791601866252, 'confusion_matrix': DataFrame[label: float, 0.0: bigint, 1.0: bigint]}\n"
     ]
    }
   ],
   "source": [
    "# 2. Model: Decision Tree Classifier\n",
    "cv_dtree_cf = ml_pipeline('Decision Tree', 'mini_sparkify_event_data.json')"
   ]
  },
  {
   "cell_type": "code",
   "execution_count": 86,
   "metadata": {
    "scrolled": true
   },
   "outputs": [
    {
     "name": "stdout",
     "output_type": "stream",
     "text": [
      "\n",
      "Model: Logistic Regression\n",
      "\n",
      "----------------------------\n",
      "1. Load Data\n",
      "----------------------------\n",
      "----------------------------\n",
      "2. Feature Creation\n",
      "----------------------------\n",
      "Number of missing values: 0\n",
      "----------------------------\n",
      "3. Feature Scaling\n",
      "----------------------------\n",
      "58 Features for Scaling:\n",
      "\n",
      "['avg_session_duration', 'gender', 'level', 'AK', 'AL', 'AR', 'AZ', 'CA', 'CO', 'CT', 'DC', 'FL', 'GA', 'IA', 'IL', 'IN', 'KY', 'LA', 'MA', 'MD', 'MI', 'MN', 'MO', 'MS', 'MT', 'NC', 'NE', 'NH', 'NJ', 'NV', 'NY', 'OH', 'OK', 'OR', 'PA', 'RI', 'SC', 'TN', 'TX', 'UT', 'VA', 'WA', 'WI', 'WV', 'page_about', 'page_error', 'page_roll_advert', 'page_save_settings', 'page_submit_downgrade', 'page_submit_upgrade', 'page_upgrade', 'time_since_reg', 'Macintosh', 'Windows', 'X11', 'compatible', 'iPad', 'iPhone']\n",
      "\n",
      "Example row of scaled features:\n",
      "\n",
      "[Row(userId='100010', avg_session_duration=1541741825357.1428, gender=0, level=0, AK=0, AL=0, AR=0, AZ=0, CA=0, CO=0, CT=1, DC=0, FL=0, GA=0, IA=0, IL=0, IN=0, KY=0, LA=0, MA=0, MD=0, MI=0, MN=0, MO=0, MS=0, MT=0, NC=0, NE=0, NH=0, NJ=0, NV=0, NY=0, OH=0, OK=0, OR=0, PA=0, RI=0, SC=0, TN=0, TX=0, UT=0, VA=0, WA=0, WI=0, WV=0, page_about=1, page_error=0, page_roll_advert=52, page_save_settings=0, page_submit_downgrade=0, page_submit_upgrade=0, page_upgrade=2, time_since_reg=4807612000, Macintosh=0, Windows=0, X11=0, compatible=0, iPad=0, iPhone=1, label=0.0, FeatureVector=SparseVector(58, {0: 1.5417, 9: 1.0, 44: 1.0, 46: 52.0, 50: 2.0, 51: 4807612000.0, 57: 1.0}), ScaledFeatures=DenseVector([0.6221, 0.0, 0.0, 0.0, 0.0, 0.0, 0.0, 0.0, 0.0, 1.0, 0.0, 0.0, 0.0, 0.0, 0.0, 0.0, 0.0, 0.0, 0.0, 0.0, 0.0, 0.0, 0.0, 0.0, 0.0, 0.0, 0.0, 0.0, 0.0, 0.0, 0.0, 0.0, 0.0, 0.0, 0.0, 0.0, 0.0, 0.0, 0.0, 0.0, 0.0, 0.0, 0.0, 0.0, 0.04, 0.0, 0.4062, 0.0, 0.0, 0.0, 0.1333, 0.2161, 0.0, 0.0, 0.0, 0.0, 0.0, 1.0]))]\n",
      "\n",
      "Reduced to scaled feature vector and labels:\n",
      "\n",
      "root\n",
      " |-- ScaledFeatures: vector (nullable = true)\n",
      " |-- label: float (nullable = true)\n",
      "\n",
      "None\n",
      "[Row(ScaledFeatures=DenseVector([0.6221, 0.0, 0.0, 0.0, 0.0, 0.0, 0.0, 0.0, 0.0, 1.0, 0.0, 0.0, 0.0, 0.0, 0.0, 0.0, 0.0, 0.0, 0.0, 0.0, 0.0, 0.0, 0.0, 0.0, 0.0, 0.0, 0.0, 0.0, 0.0, 0.0, 0.0, 0.0, 0.0, 0.0, 0.0, 0.0, 0.0, 0.0, 0.0, 0.0, 0.0, 0.0, 0.0, 0.0, 0.04, 0.0, 0.4062, 0.0, 0.0, 0.0, 0.1333, 0.2161, 0.0, 0.0, 0.0, 0.0, 0.0, 1.0]), label=0.0)]\n",
      "----------------------------\n",
      "4. Train-Test Split\n",
      "----------------------------\n",
      "----------------------------\n",
      "5. Build model\n",
      "----------------------------\n",
      "----------------------------\n",
      "6. & 7. Cross Val. & Training\n",
      "----------------------------\n",
      "----------------------------\n",
      "8. Model Evaluation\n",
      "----------------------------\n",
      "{'precision': 0.9265498031152447, 'recall': 0.9253499222395023, 'f1': 0.925894991185113, 'accuracy': 0.9253499222395023, 'confusion_matrix': DataFrame[label: float, 0.0: bigint, 1.0: bigint]}\n"
     ]
    }
   ],
   "source": [
    "# 3. Model: Logistic Regression Classifier\n",
    "cv_logreg_cf = ml_pipeline('Logistic Regression', 'mini_sparkify_event_data.json')"
   ]
  },
  {
   "cell_type": "code",
   "execution_count": 87,
   "metadata": {},
   "outputs": [
    {
     "name": "stdout",
     "output_type": "stream",
     "text": [
      "\n",
      "Model: Gradient Boosting\n",
      "\n",
      "----------------------------\n",
      "1. Load Data\n",
      "----------------------------\n",
      "----------------------------\n",
      "2. Feature Creation\n",
      "----------------------------\n",
      "Number of missing values: 0\n",
      "----------------------------\n",
      "3. Feature Scaling\n",
      "----------------------------\n",
      "58 Features for Scaling:\n",
      "\n",
      "['avg_session_duration', 'gender', 'level', 'AK', 'AL', 'AR', 'AZ', 'CA', 'CO', 'CT', 'DC', 'FL', 'GA', 'IA', 'IL', 'IN', 'KY', 'LA', 'MA', 'MD', 'MI', 'MN', 'MO', 'MS', 'MT', 'NC', 'NE', 'NH', 'NJ', 'NV', 'NY', 'OH', 'OK', 'OR', 'PA', 'RI', 'SC', 'TN', 'TX', 'UT', 'VA', 'WA', 'WI', 'WV', 'page_about', 'page_error', 'page_roll_advert', 'page_save_settings', 'page_submit_downgrade', 'page_submit_upgrade', 'page_upgrade', 'time_since_reg', 'Macintosh', 'Windows', 'X11', 'compatible', 'iPad', 'iPhone']\n",
      "\n",
      "Example row of scaled features:\n",
      "\n",
      "[Row(userId='100010', avg_session_duration=1541741825357.1428, gender=0, level=0, AK=0, AL=0, AR=0, AZ=0, CA=0, CO=0, CT=1, DC=0, FL=0, GA=0, IA=0, IL=0, IN=0, KY=0, LA=0, MA=0, MD=0, MI=0, MN=0, MO=0, MS=0, MT=0, NC=0, NE=0, NH=0, NJ=0, NV=0, NY=0, OH=0, OK=0, OR=0, PA=0, RI=0, SC=0, TN=0, TX=0, UT=0, VA=0, WA=0, WI=0, WV=0, page_about=1, page_error=0, page_roll_advert=52, page_save_settings=0, page_submit_downgrade=0, page_submit_upgrade=0, page_upgrade=2, time_since_reg=4807612000, Macintosh=0, Windows=0, X11=0, compatible=0, iPad=0, iPhone=1, label=0.0, FeatureVector=SparseVector(58, {0: 1.5417, 9: 1.0, 44: 1.0, 46: 52.0, 50: 2.0, 51: 4807612000.0, 57: 1.0}), ScaledFeatures=DenseVector([0.6221, 0.0, 0.0, 0.0, 0.0, 0.0, 0.0, 0.0, 0.0, 1.0, 0.0, 0.0, 0.0, 0.0, 0.0, 0.0, 0.0, 0.0, 0.0, 0.0, 0.0, 0.0, 0.0, 0.0, 0.0, 0.0, 0.0, 0.0, 0.0, 0.0, 0.0, 0.0, 0.0, 0.0, 0.0, 0.0, 0.0, 0.0, 0.0, 0.0, 0.0, 0.0, 0.0, 0.0, 0.04, 0.0, 0.4062, 0.0, 0.0, 0.0, 0.1333, 0.2161, 0.0, 0.0, 0.0, 0.0, 0.0, 1.0]))]\n",
      "\n",
      "Reduced to scaled feature vector and labels:\n",
      "\n",
      "root\n",
      " |-- ScaledFeatures: vector (nullable = true)\n",
      " |-- label: float (nullable = true)\n",
      "\n",
      "None\n",
      "[Row(ScaledFeatures=DenseVector([0.6221, 0.0, 0.0, 0.0, 0.0, 0.0, 0.0, 0.0, 0.0, 1.0, 0.0, 0.0, 0.0, 0.0, 0.0, 0.0, 0.0, 0.0, 0.0, 0.0, 0.0, 0.0, 0.0, 0.0, 0.0, 0.0, 0.0, 0.0, 0.0, 0.0, 0.0, 0.0, 0.0, 0.0, 0.0, 0.0, 0.0, 0.0, 0.0, 0.0, 0.0, 0.0, 0.0, 0.0, 0.04, 0.0, 0.4062, 0.0, 0.0, 0.0, 0.1333, 0.2161, 0.0, 0.0, 0.0, 0.0, 0.0, 1.0]), label=0.0)]\n",
      "----------------------------\n",
      "4. Train-Test Split\n",
      "----------------------------\n",
      "----------------------------\n",
      "5. Build model\n",
      "----------------------------\n",
      "----------------------------\n",
      "6. & 7. Cross Val. & Training\n",
      "----------------------------\n",
      "----------------------------\n",
      "8. Model Evaluation\n",
      "----------------------------\n",
      "{'precision': 0.9814904703234215, 'recall': 0.9813374805598756, 'f1': 0.9809663067154057, 'accuracy': 0.9813374805598756, 'confusion_matrix': DataFrame[label: float, 0.0: bigint, 1.0: bigint]}\n"
     ]
    }
   ],
   "source": [
    "# 4. Model: Gradient Boosting Classifier\n",
    "cv_gradientboo_cf = ml_pipeline('Gradient Boosting', 'mini_sparkify_event_data.json')"
   ]
  },
  {
   "cell_type": "markdown",
   "metadata": {},
   "source": [
    "### Conclusion"
   ]
  },
  {
   "cell_type": "markdown",
   "metadata": {},
   "source": [
    "Out of the 4 tested models, the Gradient Boosting Tree classifier shows up the best prediction performance with a F1 score of 0.98."
   ]
  }
 ],
 "metadata": {
  "kernelspec": {
   "display_name": "Python 3",
   "language": "python",
   "name": "python3"
  }
 },
 "nbformat": 4,
 "nbformat_minor": 2
}
